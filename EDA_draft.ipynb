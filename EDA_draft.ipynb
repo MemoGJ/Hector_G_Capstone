{
 "cells": [
  {
   "attachments": {},
   "cell_type": "markdown",
   "id": "b26946cf",
   "metadata": {},
   "source": [
    "# EDA on Batting WAR dataset\n",
    "Performing basic EDA on Batting WAR dataset."
   ]
  },
  {
   "cell_type": "code",
   "execution_count": 174,
   "id": "aa218c2f",
   "metadata": {},
   "outputs": [],
   "source": [
    "import pandas as pd\n",
    "import numpy as np\n",
    "import matplotlib.pyplot as plt\n",
    "import seaborn as sns"
   ]
  },
  {
   "cell_type": "code",
   "execution_count": 175,
   "id": "06d8dae2",
   "metadata": {},
   "outputs": [],
   "source": [
    "# Loa\n",
    "df = pd.read_csv('datasets/war_daily_bat.csv')"
   ]
  },
  {
   "cell_type": "code",
   "execution_count": 176,
   "id": "6a61d08b",
   "metadata": {
    "scrolled": true
   },
   "outputs": [
    {
     "data": {
      "text/html": [
       "<div>\n",
       "<style scoped>\n",
       "    .dataframe tbody tr th:only-of-type {\n",
       "        vertical-align: middle;\n",
       "    }\n",
       "\n",
       "    .dataframe tbody tr th {\n",
       "        vertical-align: top;\n",
       "    }\n",
       "\n",
       "    .dataframe thead th {\n",
       "        text-align: right;\n",
       "    }\n",
       "</style>\n",
       "<table border=\"1\" class=\"dataframe\">\n",
       "  <thead>\n",
       "    <tr style=\"text-align: right;\">\n",
       "      <th></th>\n",
       "      <th>name_common</th>\n",
       "      <th>age</th>\n",
       "      <th>mlb_ID</th>\n",
       "      <th>player_ID</th>\n",
       "      <th>year_ID</th>\n",
       "      <th>team_ID</th>\n",
       "      <th>stint_ID</th>\n",
       "      <th>lg_ID</th>\n",
       "      <th>PA</th>\n",
       "      <th>G</th>\n",
       "      <th>...</th>\n",
       "      <th>oppRpG_rep</th>\n",
       "      <th>pyth_exponent</th>\n",
       "      <th>pyth_exponent_rep</th>\n",
       "      <th>waa_win_perc</th>\n",
       "      <th>waa_win_perc_off</th>\n",
       "      <th>waa_win_perc_def</th>\n",
       "      <th>waa_win_perc_rep</th>\n",
       "      <th>OPS_plus</th>\n",
       "      <th>TOB_lg</th>\n",
       "      <th>TB_lg</th>\n",
       "    </tr>\n",
       "  </thead>\n",
       "  <tbody>\n",
       "    <tr>\n",
       "      <th>30293</th>\n",
       "      <td>Cedric Durst</td>\n",
       "      <td>26.0</td>\n",
       "      <td>113666.0</td>\n",
       "      <td>durstce01</td>\n",
       "      <td>1923</td>\n",
       "      <td>SLB</td>\n",
       "      <td>1</td>\n",
       "      <td>AL</td>\n",
       "      <td>95.0</td>\n",
       "      <td>45</td>\n",
       "      <td>...</td>\n",
       "      <td>4.70491</td>\n",
       "      <td>1.898</td>\n",
       "      <td>1.899</td>\n",
       "      <td>0.4877</td>\n",
       "      <td>0.4899</td>\n",
       "      <td>0.4958</td>\n",
       "      <td>0.4920</td>\n",
       "      <td>76.088183</td>\n",
       "      <td>34.243</td>\n",
       "      <td>34.944</td>\n",
       "    </tr>\n",
       "    <tr>\n",
       "      <th>99341</th>\n",
       "      <td>Gerry Shea</td>\n",
       "      <td>23.0</td>\n",
       "      <td>122087.0</td>\n",
       "      <td>sheage01</td>\n",
       "      <td>1905</td>\n",
       "      <td>STL</td>\n",
       "      <td>1</td>\n",
       "      <td>NL</td>\n",
       "      <td>6.0</td>\n",
       "      <td>2</td>\n",
       "      <td>...</td>\n",
       "      <td>4.03084</td>\n",
       "      <td>1.828</td>\n",
       "      <td>1.819</td>\n",
       "      <td>0.5050</td>\n",
       "      <td>0.5050</td>\n",
       "      <td>0.5055</td>\n",
       "      <td>0.4891</td>\n",
       "      <td>102.020099</td>\n",
       "      <td>1.927</td>\n",
       "      <td>2.036</td>\n",
       "    </tr>\n",
       "    <tr>\n",
       "      <th>9981</th>\n",
       "      <td>Tom Bolton</td>\n",
       "      <td>28.0</td>\n",
       "      <td>111183.0</td>\n",
       "      <td>boltoto01</td>\n",
       "      <td>1990</td>\n",
       "      <td>BOS</td>\n",
       "      <td>1</td>\n",
       "      <td>AL</td>\n",
       "      <td>0.0</td>\n",
       "      <td>0</td>\n",
       "      <td>...</td>\n",
       "      <td>NaN</td>\n",
       "      <td>NaN</td>\n",
       "      <td>NaN</td>\n",
       "      <td>NaN</td>\n",
       "      <td>NaN</td>\n",
       "      <td>NaN</td>\n",
       "      <td>NaN</td>\n",
       "      <td>NaN</td>\n",
       "      <td>0.000</td>\n",
       "      <td>0.000</td>\n",
       "    </tr>\n",
       "    <tr>\n",
       "      <th>82587</th>\n",
       "      <td>Kevin Padlo</td>\n",
       "      <td>24.0</td>\n",
       "      <td>656821.0</td>\n",
       "      <td>padloke01</td>\n",
       "      <td>2021</td>\n",
       "      <td>TBR</td>\n",
       "      <td>1</td>\n",
       "      <td>AL</td>\n",
       "      <td>14.0</td>\n",
       "      <td>9</td>\n",
       "      <td>...</td>\n",
       "      <td>4.63148</td>\n",
       "      <td>1.883</td>\n",
       "      <td>1.889</td>\n",
       "      <td>0.4834</td>\n",
       "      <td>0.4834</td>\n",
       "      <td>0.4989</td>\n",
       "      <td>0.4946</td>\n",
       "      <td>10.623931</td>\n",
       "      <td>4.322</td>\n",
       "      <td>4.853</td>\n",
       "    </tr>\n",
       "    <tr>\n",
       "      <th>40847</th>\n",
       "      <td>Rick Gorecki</td>\n",
       "      <td>23.0</td>\n",
       "      <td>114973.0</td>\n",
       "      <td>gorecri01</td>\n",
       "      <td>1997</td>\n",
       "      <td>LAD</td>\n",
       "      <td>1</td>\n",
       "      <td>NL</td>\n",
       "      <td>1.0</td>\n",
       "      <td>4</td>\n",
       "      <td>...</td>\n",
       "      <td>4.60833</td>\n",
       "      <td>1.886</td>\n",
       "      <td>1.884</td>\n",
       "      <td>0.5038</td>\n",
       "      <td>0.5038</td>\n",
       "      <td>0.5000</td>\n",
       "      <td>0.4992</td>\n",
       "      <td>NaN</td>\n",
       "      <td>0.000</td>\n",
       "      <td>0.000</td>\n",
       "    </tr>\n",
       "    <tr>\n",
       "      <th>116104</th>\n",
       "      <td>Lou Whitaker</td>\n",
       "      <td>37.0</td>\n",
       "      <td>124154.0</td>\n",
       "      <td>whitalo01</td>\n",
       "      <td>1994</td>\n",
       "      <td>DET</td>\n",
       "      <td>1</td>\n",
       "      <td>AL</td>\n",
       "      <td>372.0</td>\n",
       "      <td>92</td>\n",
       "      <td>...</td>\n",
       "      <td>5.09817</td>\n",
       "      <td>1.963</td>\n",
       "      <td>1.946</td>\n",
       "      <td>0.5134</td>\n",
       "      <td>0.5150</td>\n",
       "      <td>0.5001</td>\n",
       "      <td>0.4857</td>\n",
       "      <td>122.284873</td>\n",
       "      <td>127.231</td>\n",
       "      <td>139.780</td>\n",
       "    </tr>\n",
       "    <tr>\n",
       "      <th>121059</th>\n",
       "      <td>Gus Zernial</td>\n",
       "      <td>28.0</td>\n",
       "      <td>124759.0</td>\n",
       "      <td>zernigu01</td>\n",
       "      <td>1951</td>\n",
       "      <td>PHA</td>\n",
       "      <td>2</td>\n",
       "      <td>AL</td>\n",
       "      <td>617.0</td>\n",
       "      <td>139</td>\n",
       "      <td>...</td>\n",
       "      <td>4.50344</td>\n",
       "      <td>1.892</td>\n",
       "      <td>1.879</td>\n",
       "      <td>0.5107</td>\n",
       "      <td>0.5100</td>\n",
       "      <td>0.4962</td>\n",
       "      <td>0.4863</td>\n",
       "      <td>133.397572</td>\n",
       "      <td>215.950</td>\n",
       "      <td>217.433</td>\n",
       "    </tr>\n",
       "    <tr>\n",
       "      <th>6537</th>\n",
       "      <td>Bill Beckmann</td>\n",
       "      <td>32.0</td>\n",
       "      <td>110778.0</td>\n",
       "      <td>beckmbi01</td>\n",
       "      <td>1940</td>\n",
       "      <td>PHA</td>\n",
       "      <td>1</td>\n",
       "      <td>AL</td>\n",
       "      <td>42.0</td>\n",
       "      <td>34</td>\n",
       "      <td>...</td>\n",
       "      <td>4.98567</td>\n",
       "      <td>1.928</td>\n",
       "      <td>1.928</td>\n",
       "      <td>0.4961</td>\n",
       "      <td>0.4961</td>\n",
       "      <td>0.5000</td>\n",
       "      <td>0.4959</td>\n",
       "      <td>8.053230</td>\n",
       "      <td>13.580</td>\n",
       "      <td>16.279</td>\n",
       "    </tr>\n",
       "    <tr>\n",
       "      <th>60334</th>\n",
       "      <td>Hiroki Kuroda</td>\n",
       "      <td>33.0</td>\n",
       "      <td>493133.0</td>\n",
       "      <td>kurodhi01</td>\n",
       "      <td>2008</td>\n",
       "      <td>LAD</td>\n",
       "      <td>1</td>\n",
       "      <td>NL</td>\n",
       "      <td>65.0</td>\n",
       "      <td>30</td>\n",
       "      <td>...</td>\n",
       "      <td>4.57433</td>\n",
       "      <td>1.890</td>\n",
       "      <td>1.883</td>\n",
       "      <td>0.5055</td>\n",
       "      <td>0.5055</td>\n",
       "      <td>0.5004</td>\n",
       "      <td>0.4931</td>\n",
       "      <td>4.936872</td>\n",
       "      <td>19.848</td>\n",
       "      <td>22.820</td>\n",
       "    </tr>\n",
       "    <tr>\n",
       "      <th>85632</th>\n",
       "      <td>Jesse Petty</td>\n",
       "      <td>31.0</td>\n",
       "      <td>120487.0</td>\n",
       "      <td>pettyje01</td>\n",
       "      <td>1926</td>\n",
       "      <td>BRO</td>\n",
       "      <td>1</td>\n",
       "      <td>NL</td>\n",
       "      <td>101.0</td>\n",
       "      <td>38</td>\n",
       "      <td>...</td>\n",
       "      <td>4.48084</td>\n",
       "      <td>1.874</td>\n",
       "      <td>1.873</td>\n",
       "      <td>0.4932</td>\n",
       "      <td>0.4932</td>\n",
       "      <td>0.5000</td>\n",
       "      <td>0.4915</td>\n",
       "      <td>10.868411</td>\n",
       "      <td>33.741</td>\n",
       "      <td>38.247</td>\n",
       "    </tr>\n",
       "  </tbody>\n",
       "</table>\n",
       "<p>10 rows × 49 columns</p>\n",
       "</div>"
      ],
      "text/plain": [
       "          name_common   age    mlb_ID  player_ID  year_ID team_ID  stint_ID  \\\n",
       "30293    Cedric Durst  26.0  113666.0  durstce01     1923     SLB         1   \n",
       "99341      Gerry Shea  23.0  122087.0   sheage01     1905     STL         1   \n",
       "9981       Tom Bolton  28.0  111183.0  boltoto01     1990     BOS         1   \n",
       "82587     Kevin Padlo  24.0  656821.0  padloke01     2021     TBR         1   \n",
       "40847    Rick Gorecki  23.0  114973.0  gorecri01     1997     LAD         1   \n",
       "116104   Lou Whitaker  37.0  124154.0  whitalo01     1994     DET         1   \n",
       "121059    Gus Zernial  28.0  124759.0  zernigu01     1951     PHA         2   \n",
       "6537    Bill Beckmann  32.0  110778.0  beckmbi01     1940     PHA         1   \n",
       "60334   Hiroki Kuroda  33.0  493133.0  kurodhi01     2008     LAD         1   \n",
       "85632     Jesse Petty  31.0  120487.0  pettyje01     1926     BRO         1   \n",
       "\n",
       "       lg_ID     PA    G  ...  oppRpG_rep  pyth_exponent  pyth_exponent_rep  \\\n",
       "30293     AL   95.0   45  ...     4.70491          1.898              1.899   \n",
       "99341     NL    6.0    2  ...     4.03084          1.828              1.819   \n",
       "9981      AL    0.0    0  ...         NaN            NaN                NaN   \n",
       "82587     AL   14.0    9  ...     4.63148          1.883              1.889   \n",
       "40847     NL    1.0    4  ...     4.60833          1.886              1.884   \n",
       "116104    AL  372.0   92  ...     5.09817          1.963              1.946   \n",
       "121059    AL  617.0  139  ...     4.50344          1.892              1.879   \n",
       "6537      AL   42.0   34  ...     4.98567          1.928              1.928   \n",
       "60334     NL   65.0   30  ...     4.57433          1.890              1.883   \n",
       "85632     NL  101.0   38  ...     4.48084          1.874              1.873   \n",
       "\n",
       "        waa_win_perc  waa_win_perc_off  waa_win_perc_def  waa_win_perc_rep  \\\n",
       "30293         0.4877            0.4899            0.4958            0.4920   \n",
       "99341         0.5050            0.5050            0.5055            0.4891   \n",
       "9981             NaN               NaN               NaN               NaN   \n",
       "82587         0.4834            0.4834            0.4989            0.4946   \n",
       "40847         0.5038            0.5038            0.5000            0.4992   \n",
       "116104        0.5134            0.5150            0.5001            0.4857   \n",
       "121059        0.5107            0.5100            0.4962            0.4863   \n",
       "6537          0.4961            0.4961            0.5000            0.4959   \n",
       "60334         0.5055            0.5055            0.5004            0.4931   \n",
       "85632         0.4932            0.4932            0.5000            0.4915   \n",
       "\n",
       "          OPS_plus   TOB_lg    TB_lg  \n",
       "30293    76.088183   34.243   34.944  \n",
       "99341   102.020099    1.927    2.036  \n",
       "9981           NaN    0.000    0.000  \n",
       "82587    10.623931    4.322    4.853  \n",
       "40847          NaN    0.000    0.000  \n",
       "116104  122.284873  127.231  139.780  \n",
       "121059  133.397572  215.950  217.433  \n",
       "6537      8.053230   13.580   16.279  \n",
       "60334     4.936872   19.848   22.820  \n",
       "85632    10.868411   33.741   38.247  \n",
       "\n",
       "[10 rows x 49 columns]"
      ]
     },
     "execution_count": 176,
     "metadata": {},
     "output_type": "execute_result"
    }
   ],
   "source": [
    "# Overview of the data with a 10 row sample\n",
    "df.sample(10)"
   ]
  },
  {
   "cell_type": "code",
   "execution_count": 177,
   "id": "361e04e9",
   "metadata": {},
   "outputs": [
    {
     "data": {
      "text/plain": [
       "(121375, 49)"
      ]
     },
     "execution_count": 177,
     "metadata": {},
     "output_type": "execute_result"
    }
   ],
   "source": [
    "# Shape of dataframe\n",
    "df.shape"
   ]
  },
  {
   "cell_type": "code",
   "execution_count": 178,
   "id": "5336cb43",
   "metadata": {},
   "outputs": [
    {
     "name": "stdout",
     "output_type": "stream",
     "text": [
      "Number of rows:  121375\n",
      "Number of columns:  49\n"
     ]
    }
   ],
   "source": [
    "print(\"Number of rows: \", df.shape[0])\n",
    "print(\"Number of columns: \", df.shape[1])"
   ]
  },
  {
   "cell_type": "code",
   "execution_count": 179,
   "id": "86b926fe",
   "metadata": {},
   "outputs": [
    {
     "data": {
      "text/plain": [
       "name_common            object\n",
       "age                   float64\n",
       "mlb_ID                float64\n",
       "player_ID              object\n",
       "year_ID                 int64\n",
       "team_ID                object\n",
       "stint_ID                int64\n",
       "lg_ID                  object\n",
       "PA                    float64\n",
       "G                       int64\n",
       "Inn                   float64\n",
       "runs_bat              float64\n",
       "runs_br               float64\n",
       "runs_dp               float64\n",
       "runs_field            float64\n",
       "runs_infield          float64\n",
       "runs_outfield         float64\n",
       "runs_catcher          float64\n",
       "runs_good_plays       float64\n",
       "runs_defense          float64\n",
       "runs_position         float64\n",
       "runs_position_p       float64\n",
       "runs_replacement      float64\n",
       "runs_above_rep        float64\n",
       "runs_above_avg        float64\n",
       "runs_above_avg_off    float64\n",
       "runs_above_avg_def    float64\n",
       "WAA                   float64\n",
       "WAA_off               float64\n",
       "WAA_def               float64\n",
       "WAR                   float64\n",
       "WAR_def               float64\n",
       "WAR_off               float64\n",
       "WAR_rep               float64\n",
       "salary                float64\n",
       "pitcher                object\n",
       "teamRpG               float64\n",
       "oppRpG                float64\n",
       "oppRpPA_rep           float64\n",
       "oppRpG_rep            float64\n",
       "pyth_exponent         float64\n",
       "pyth_exponent_rep     float64\n",
       "waa_win_perc          float64\n",
       "waa_win_perc_off      float64\n",
       "waa_win_perc_def      float64\n",
       "waa_win_perc_rep      float64\n",
       "OPS_plus              float64\n",
       "TOB_lg                float64\n",
       "TB_lg                 float64\n",
       "dtype: object"
      ]
     },
     "execution_count": 179,
     "metadata": {},
     "output_type": "execute_result"
    }
   ],
   "source": [
    "# Data types of each column\n",
    "df.dtypes"
   ]
  },
  {
   "cell_type": "code",
   "execution_count": 180,
   "id": "b4cd27c9",
   "metadata": {},
   "outputs": [
    {
     "data": {
      "text/plain": [
       "name_common               0\n",
       "age                    1388\n",
       "mlb_ID                 8388\n",
       "player_ID                 0\n",
       "year_ID                   0\n",
       "team_ID                   0\n",
       "stint_ID                  0\n",
       "lg_ID                   736\n",
       "PA                      802\n",
       "G                         0\n",
       "Inn                   44908\n",
       "runs_bat                  0\n",
       "runs_br                   0\n",
       "runs_dp                   0\n",
       "runs_field                0\n",
       "runs_infield          44908\n",
       "runs_outfield         44908\n",
       "runs_catcher          44908\n",
       "runs_good_plays       91900\n",
       "runs_defense              0\n",
       "runs_position           988\n",
       "runs_position_p           1\n",
       "runs_replacement        802\n",
       "runs_above_rep          988\n",
       "runs_above_avg          988\n",
       "runs_above_avg_off      988\n",
       "runs_above_avg_def      988\n",
       "WAA                    9669\n",
       "WAA_off                9669\n",
       "WAA_def                9669\n",
       "WAR                   10812\n",
       "WAR_def                9669\n",
       "WAR_off               10812\n",
       "WAR_rep               10626\n",
       "salary                73429\n",
       "pitcher                1143\n",
       "teamRpG                9669\n",
       "oppRpG                    0\n",
       "oppRpPA_rep               0\n",
       "oppRpG_rep             9483\n",
       "pyth_exponent          9669\n",
       "pyth_exponent_rep      9483\n",
       "waa_win_perc           9669\n",
       "waa_win_perc_off       9669\n",
       "waa_win_perc_def       9669\n",
       "waa_win_perc_rep       9483\n",
       "OPS_plus              19378\n",
       "TOB_lg                    6\n",
       "TB_lg                     6\n",
       "dtype: int64"
      ]
     },
     "execution_count": 180,
     "metadata": {},
     "output_type": "execute_result"
    }
   ],
   "source": [
    "# check for missing values\n",
    "df.isnull().sum()"
   ]
  },
  {
   "cell_type": "code",
   "execution_count": 181,
   "id": "bde2fa18",
   "metadata": {},
   "outputs": [
    {
     "data": {
      "text/html": [
       "<div>\n",
       "<style scoped>\n",
       "    .dataframe tbody tr th:only-of-type {\n",
       "        vertical-align: middle;\n",
       "    }\n",
       "\n",
       "    .dataframe tbody tr th {\n",
       "        vertical-align: top;\n",
       "    }\n",
       "\n",
       "    .dataframe thead th {\n",
       "        text-align: right;\n",
       "    }\n",
       "</style>\n",
       "<table border=\"1\" class=\"dataframe\">\n",
       "  <thead>\n",
       "    <tr style=\"text-align: right;\">\n",
       "      <th></th>\n",
       "      <th>age</th>\n",
       "      <th>mlb_ID</th>\n",
       "      <th>year_ID</th>\n",
       "      <th>stint_ID</th>\n",
       "      <th>PA</th>\n",
       "      <th>G</th>\n",
       "      <th>Inn</th>\n",
       "      <th>runs_bat</th>\n",
       "      <th>runs_br</th>\n",
       "      <th>runs_dp</th>\n",
       "      <th>...</th>\n",
       "      <th>oppRpG_rep</th>\n",
       "      <th>pyth_exponent</th>\n",
       "      <th>pyth_exponent_rep</th>\n",
       "      <th>waa_win_perc</th>\n",
       "      <th>waa_win_perc_off</th>\n",
       "      <th>waa_win_perc_def</th>\n",
       "      <th>waa_win_perc_rep</th>\n",
       "      <th>OPS_plus</th>\n",
       "      <th>TOB_lg</th>\n",
       "      <th>TB_lg</th>\n",
       "    </tr>\n",
       "  </thead>\n",
       "  <tbody>\n",
       "    <tr>\n",
       "      <th>count</th>\n",
       "      <td>119987.000000</td>\n",
       "      <td>112987.000000</td>\n",
       "      <td>121375.000000</td>\n",
       "      <td>121375.000000</td>\n",
       "      <td>120573.000000</td>\n",
       "      <td>121375.000000</td>\n",
       "      <td>76467.000000</td>\n",
       "      <td>121375.000000</td>\n",
       "      <td>121375.000000</td>\n",
       "      <td>121375.000000</td>\n",
       "      <td>...</td>\n",
       "      <td>111892.000000</td>\n",
       "      <td>111706.000000</td>\n",
       "      <td>111892.000000</td>\n",
       "      <td>111706.000000</td>\n",
       "      <td>111706.000000</td>\n",
       "      <td>111706.000000</td>\n",
       "      <td>111892.000000</td>\n",
       "      <td>101997.000000</td>\n",
       "      <td>121369.000000</td>\n",
       "      <td>121369.000000</td>\n",
       "    </tr>\n",
       "    <tr>\n",
       "      <th>mean</th>\n",
       "      <td>27.787135</td>\n",
       "      <td>207916.047262</td>\n",
       "      <td>1966.710904</td>\n",
       "      <td>1.025714</td>\n",
       "      <td>149.459182</td>\n",
       "      <td>45.152066</td>\n",
       "      <td>313.949138</td>\n",
       "      <td>-0.791258</td>\n",
       "      <td>0.000270</td>\n",
       "      <td>-0.000342</td>\n",
       "      <td>...</td>\n",
       "      <td>4.527066</td>\n",
       "      <td>1.877152</td>\n",
       "      <td>1.874663</td>\n",
       "      <td>0.495399</td>\n",
       "      <td>0.496085</td>\n",
       "      <td>0.499387</td>\n",
       "      <td>0.491576</td>\n",
       "      <td>53.769473</td>\n",
       "      <td>48.877443</td>\n",
       "      <td>52.426025</td>\n",
       "    </tr>\n",
       "    <tr>\n",
       "      <th>std</th>\n",
       "      <td>4.436740</td>\n",
       "      <td>169142.978896</td>\n",
       "      <td>39.910613</td>\n",
       "      <td>0.383629</td>\n",
       "      <td>200.635289</td>\n",
       "      <td>47.710997</td>\n",
       "      <td>403.734140</td>\n",
       "      <td>9.153787</td>\n",
       "      <td>1.067511</td>\n",
       "      <td>0.592303</td>\n",
       "      <td>...</td>\n",
       "      <td>0.677578</td>\n",
       "      <td>0.075139</td>\n",
       "      <td>0.074956</td>\n",
       "      <td>0.021080</td>\n",
       "      <td>0.018711</td>\n",
       "      <td>0.009019</td>\n",
       "      <td>0.005119</td>\n",
       "      <td>85.034772</td>\n",
       "      <td>66.489481</td>\n",
       "      <td>71.173247</td>\n",
       "    </tr>\n",
       "    <tr>\n",
       "      <th>min</th>\n",
       "      <td>15.000000</td>\n",
       "      <td>110001.000000</td>\n",
       "      <td>1871.000000</td>\n",
       "      <td>0.000000</td>\n",
       "      <td>0.000000</td>\n",
       "      <td>0.000000</td>\n",
       "      <td>0.000000</td>\n",
       "      <td>-64.050000</td>\n",
       "      <td>-8.210000</td>\n",
       "      <td>-6.200000</td>\n",
       "      <td>...</td>\n",
       "      <td>3.189750</td>\n",
       "      <td>1.682000</td>\n",
       "      <td>1.706000</td>\n",
       "      <td>0.238000</td>\n",
       "      <td>0.325200</td>\n",
       "      <td>0.273600</td>\n",
       "      <td>0.480200</td>\n",
       "      <td>-100.000000</td>\n",
       "      <td>0.000000</td>\n",
       "      <td>0.000000</td>\n",
       "    </tr>\n",
       "    <tr>\n",
       "      <th>25%</th>\n",
       "      <td>25.000000</td>\n",
       "      <td>115103.000000</td>\n",
       "      <td>1935.000000</td>\n",
       "      <td>1.000000</td>\n",
       "      <td>4.000000</td>\n",
       "      <td>5.000000</td>\n",
       "      <td>33.000000</td>\n",
       "      <td>-4.140000</td>\n",
       "      <td>-0.170000</td>\n",
       "      <td>0.000000</td>\n",
       "      <td>...</td>\n",
       "      <td>4.086150</td>\n",
       "      <td>1.827000</td>\n",
       "      <td>1.824000</td>\n",
       "      <td>0.486800</td>\n",
       "      <td>0.488000</td>\n",
       "      <td>0.497300</td>\n",
       "      <td>0.487300</td>\n",
       "      <td>7.507723</td>\n",
       "      <td>1.298000</td>\n",
       "      <td>1.332000</td>\n",
       "    </tr>\n",
       "    <tr>\n",
       "      <th>50%</th>\n",
       "      <td>27.000000</td>\n",
       "      <td>120055.000000</td>\n",
       "      <td>1974.000000</td>\n",
       "      <td>1.000000</td>\n",
       "      <td>49.000000</td>\n",
       "      <td>28.000000</td>\n",
       "      <td>113.700000</td>\n",
       "      <td>-0.650000</td>\n",
       "      <td>0.000000</td>\n",
       "      <td>0.000000</td>\n",
       "      <td>...</td>\n",
       "      <td>4.468375</td>\n",
       "      <td>1.873000</td>\n",
       "      <td>1.871000</td>\n",
       "      <td>0.497800</td>\n",
       "      <td>0.497900</td>\n",
       "      <td>0.500000</td>\n",
       "      <td>0.491100</td>\n",
       "      <td>68.552815</td>\n",
       "      <td>15.504000</td>\n",
       "      <td>16.946000</td>\n",
       "    </tr>\n",
       "    <tr>\n",
       "      <th>75%</th>\n",
       "      <td>31.000000</td>\n",
       "      <td>150029.000000</td>\n",
       "      <td>2002.000000</td>\n",
       "      <td>1.000000</td>\n",
       "      <td>229.000000</td>\n",
       "      <td>72.000000</td>\n",
       "      <td>452.150000</td>\n",
       "      <td>0.000000</td>\n",
       "      <td>0.070000</td>\n",
       "      <td>0.000000</td>\n",
       "      <td>...</td>\n",
       "      <td>4.814130</td>\n",
       "      <td>1.914000</td>\n",
       "      <td>1.912000</td>\n",
       "      <td>0.504300</td>\n",
       "      <td>0.503900</td>\n",
       "      <td>0.500900</td>\n",
       "      <td>0.495800</td>\n",
       "      <td>102.654182</td>\n",
       "      <td>74.164000</td>\n",
       "      <td>80.035000</td>\n",
       "    </tr>\n",
       "    <tr>\n",
       "      <th>max</th>\n",
       "      <td>58.000000</td>\n",
       "      <td>807799.000000</td>\n",
       "      <td>2023.000000</td>\n",
       "      <td>5.000000</td>\n",
       "      <td>778.000000</td>\n",
       "      <td>165.000000</td>\n",
       "      <td>1543.000000</td>\n",
       "      <td>116.270000</td>\n",
       "      <td>18.640000</td>\n",
       "      <td>6.650000</td>\n",
       "      <td>...</td>\n",
       "      <td>10.331210</td>\n",
       "      <td>2.410000</td>\n",
       "      <td>2.372000</td>\n",
       "      <td>0.793700</td>\n",
       "      <td>0.793700</td>\n",
       "      <td>0.700200</td>\n",
       "      <td>0.500000</td>\n",
       "      <td>1250.047427</td>\n",
       "      <td>278.300000</td>\n",
       "      <td>338.514000</td>\n",
       "    </tr>\n",
       "  </tbody>\n",
       "</table>\n",
       "<p>8 rows × 44 columns</p>\n",
       "</div>"
      ],
      "text/plain": [
       "                 age         mlb_ID        year_ID       stint_ID  \\\n",
       "count  119987.000000  112987.000000  121375.000000  121375.000000   \n",
       "mean       27.787135  207916.047262    1966.710904       1.025714   \n",
       "std         4.436740  169142.978896      39.910613       0.383629   \n",
       "min        15.000000  110001.000000    1871.000000       0.000000   \n",
       "25%        25.000000  115103.000000    1935.000000       1.000000   \n",
       "50%        27.000000  120055.000000    1974.000000       1.000000   \n",
       "75%        31.000000  150029.000000    2002.000000       1.000000   \n",
       "max        58.000000  807799.000000    2023.000000       5.000000   \n",
       "\n",
       "                  PA              G           Inn       runs_bat  \\\n",
       "count  120573.000000  121375.000000  76467.000000  121375.000000   \n",
       "mean      149.459182      45.152066    313.949138      -0.791258   \n",
       "std       200.635289      47.710997    403.734140       9.153787   \n",
       "min         0.000000       0.000000      0.000000     -64.050000   \n",
       "25%         4.000000       5.000000     33.000000      -4.140000   \n",
       "50%        49.000000      28.000000    113.700000      -0.650000   \n",
       "75%       229.000000      72.000000    452.150000       0.000000   \n",
       "max       778.000000     165.000000   1543.000000     116.270000   \n",
       "\n",
       "             runs_br        runs_dp  ...     oppRpG_rep  pyth_exponent  \\\n",
       "count  121375.000000  121375.000000  ...  111892.000000  111706.000000   \n",
       "mean        0.000270      -0.000342  ...       4.527066       1.877152   \n",
       "std         1.067511       0.592303  ...       0.677578       0.075139   \n",
       "min        -8.210000      -6.200000  ...       3.189750       1.682000   \n",
       "25%        -0.170000       0.000000  ...       4.086150       1.827000   \n",
       "50%         0.000000       0.000000  ...       4.468375       1.873000   \n",
       "75%         0.070000       0.000000  ...       4.814130       1.914000   \n",
       "max        18.640000       6.650000  ...      10.331210       2.410000   \n",
       "\n",
       "       pyth_exponent_rep   waa_win_perc  waa_win_perc_off  waa_win_perc_def  \\\n",
       "count      111892.000000  111706.000000     111706.000000     111706.000000   \n",
       "mean            1.874663       0.495399          0.496085          0.499387   \n",
       "std             0.074956       0.021080          0.018711          0.009019   \n",
       "min             1.706000       0.238000          0.325200          0.273600   \n",
       "25%             1.824000       0.486800          0.488000          0.497300   \n",
       "50%             1.871000       0.497800          0.497900          0.500000   \n",
       "75%             1.912000       0.504300          0.503900          0.500900   \n",
       "max             2.372000       0.793700          0.793700          0.700200   \n",
       "\n",
       "       waa_win_perc_rep       OPS_plus         TOB_lg          TB_lg  \n",
       "count     111892.000000  101997.000000  121369.000000  121369.000000  \n",
       "mean           0.491576      53.769473      48.877443      52.426025  \n",
       "std            0.005119      85.034772      66.489481      71.173247  \n",
       "min            0.480200    -100.000000       0.000000       0.000000  \n",
       "25%            0.487300       7.507723       1.298000       1.332000  \n",
       "50%            0.491100      68.552815      15.504000      16.946000  \n",
       "75%            0.495800     102.654182      74.164000      80.035000  \n",
       "max            0.500000    1250.047427     278.300000     338.514000  \n",
       "\n",
       "[8 rows x 44 columns]"
      ]
     },
     "execution_count": 181,
     "metadata": {},
     "output_type": "execute_result"
    }
   ],
   "source": [
    "# Summary statistics for all numerical columns\n",
    "df.describe()"
   ]
  },
  {
   "cell_type": "code",
   "execution_count": 182,
   "id": "eeb4b2b6",
   "metadata": {},
   "outputs": [
    {
     "data": {
      "text/html": [
       "<div>\n",
       "<style scoped>\n",
       "    .dataframe tbody tr th:only-of-type {\n",
       "        vertical-align: middle;\n",
       "    }\n",
       "\n",
       "    .dataframe tbody tr th {\n",
       "        vertical-align: top;\n",
       "    }\n",
       "\n",
       "    .dataframe thead th {\n",
       "        text-align: right;\n",
       "    }\n",
       "</style>\n",
       "<table border=\"1\" class=\"dataframe\">\n",
       "  <thead>\n",
       "    <tr style=\"text-align: right;\">\n",
       "      <th></th>\n",
       "      <th>name_common</th>\n",
       "      <th>player_ID</th>\n",
       "      <th>team_ID</th>\n",
       "      <th>lg_ID</th>\n",
       "      <th>pitcher</th>\n",
       "    </tr>\n",
       "  </thead>\n",
       "  <tbody>\n",
       "    <tr>\n",
       "      <th>count</th>\n",
       "      <td>121375</td>\n",
       "      <td>121375</td>\n",
       "      <td>121375</td>\n",
       "      <td>120639</td>\n",
       "      <td>120232</td>\n",
       "    </tr>\n",
       "    <tr>\n",
       "      <th>unique</th>\n",
       "      <td>22049</td>\n",
       "      <td>22903</td>\n",
       "      <td>180</td>\n",
       "      <td>13</td>\n",
       "      <td>2</td>\n",
       "    </tr>\n",
       "    <tr>\n",
       "      <th>top</th>\n",
       "      <td>Bob Miller</td>\n",
       "      <td>mcguide01</td>\n",
       "      <td>STL</td>\n",
       "      <td>NL</td>\n",
       "      <td>N</td>\n",
       "    </tr>\n",
       "    <tr>\n",
       "      <th>freq</th>\n",
       "      <td>48</td>\n",
       "      <td>31</td>\n",
       "      <td>5228</td>\n",
       "      <td>57077</td>\n",
       "      <td>68357</td>\n",
       "    </tr>\n",
       "  </tbody>\n",
       "</table>\n",
       "</div>"
      ],
      "text/plain": [
       "       name_common  player_ID team_ID   lg_ID pitcher\n",
       "count       121375     121375  121375  120639  120232\n",
       "unique       22049      22903     180      13       2\n",
       "top     Bob Miller  mcguide01     STL      NL       N\n",
       "freq            48         31    5228   57077   68357"
      ]
     },
     "execution_count": 182,
     "metadata": {},
     "output_type": "execute_result"
    }
   ],
   "source": [
    "# Unique values and counts for all categorical column\n",
    "df.describe(include=['O'])"
   ]
  },
  {
   "cell_type": "code",
   "execution_count": 183,
   "id": "6c94ac14",
   "metadata": {},
   "outputs": [
    {
     "name": "stdout",
     "output_type": "stream",
     "text": [
      "Number of players: 22903\n",
      "Number of teams: 180\n",
      "Number of seasons: 153\n",
      "First Season: 1871\n",
      "Last Season: 2023\n"
     ]
    }
   ],
   "source": [
    "total_players = df['player_ID'].nunique()\n",
    "total_teams = df['team_ID'].nunique()\n",
    "total_seasons = df['year_ID'].nunique()\n",
    "first_season = df['year_ID'].min()\n",
    "last_season = df['year_ID'].max()\n",
    "\n",
    "print(f'Number of players: {total_players}')\n",
    "print(f'Number of teams: {total_teams}')\n",
    "print(f'Number of seasons: {total_seasons}')\n",
    "print(f'First Season: {first_season}')\n",
    "print(f'Last Season: {last_season}')"
   ]
  },
  {
   "attachments": {},
   "cell_type": "markdown",
   "id": "b062162b",
   "metadata": {},
   "source": [
    "### Data Cleaning"
   ]
  },
  {
   "attachments": {},
   "cell_type": "markdown",
   "id": "64a27a38",
   "metadata": {},
   "source": [
    "#### Drop mlb_ID column\n",
    "Both `mlb_ID` and `player_ID` columns are identifiers for the same player. `player_ID` is more widely used and recognized in other baseball datasets I might want to integrate in the future."
   ]
  },
  {
   "cell_type": "code",
   "execution_count": 184,
   "id": "dd8c14c9",
   "metadata": {},
   "outputs": [],
   "source": [
    "# Drop mlb_ID column\n",
    "df.drop('mlb_ID', axis=1, inplace=True)"
   ]
  },
  {
   "cell_type": "code",
   "execution_count": 199,
   "id": "f4f54840",
   "metadata": {},
   "outputs": [
    {
     "data": {
      "text/plain": [
       "name_common               0\n",
       "age                    1388\n",
       "player_ID                 0\n",
       "year_ID                   0\n",
       "team_ID                   0\n",
       "stint_ID                  0\n",
       "lg_ID                   736\n",
       "PA                      802\n",
       "G                         0\n",
       "Inn                   44908\n",
       "runs_bat                  0\n",
       "runs_br                   0\n",
       "runs_dp                   0\n",
       "runs_field                0\n",
       "runs_infield          44908\n",
       "runs_outfield         44908\n",
       "runs_catcher          44908\n",
       "runs_good_plays       91900\n",
       "runs_defense              0\n",
       "runs_position           988\n",
       "runs_position_p           1\n",
       "runs_replacement        802\n",
       "runs_above_rep          988\n",
       "runs_above_avg          988\n",
       "runs_above_avg_off      988\n",
       "runs_above_avg_def      988\n",
       "WAA                    9669\n",
       "WAA_off                9669\n",
       "WAA_def                9669\n",
       "WAR                   10812\n",
       "WAR_def                9669\n",
       "WAR_off               10812\n",
       "WAR_rep               10626\n",
       "salary                73429\n",
       "pitcher                1143\n",
       "teamRpG                9669\n",
       "oppRpG                    0\n",
       "oppRpPA_rep               0\n",
       "oppRpG_rep             9483\n",
       "pyth_exponent          9669\n",
       "pyth_exponent_rep      9483\n",
       "waa_win_perc           9669\n",
       "waa_win_perc_off       9669\n",
       "waa_win_perc_def       9669\n",
       "waa_win_perc_rep       9483\n",
       "OPS_plus              19378\n",
       "TOB_lg                    6\n",
       "TB_lg                     6\n",
       "dtype: int64"
      ]
     },
     "execution_count": 199,
     "metadata": {},
     "output_type": "execute_result"
    }
   ],
   "source": [
    "df.isnull().sum()"
   ]
  },
  {
   "cell_type": "code",
   "execution_count": 200,
   "id": "26f2c68b",
   "metadata": {},
   "outputs": [
    {
     "data": {
      "text/plain": [
       "521883"
      ]
     },
     "execution_count": 200,
     "metadata": {},
     "output_type": "execute_result"
    }
   ],
   "source": [
    "df.isnull().sum().sum()"
   ]
  },
  {
   "attachments": {},
   "cell_type": "markdown",
   "id": "2acdeae5",
   "metadata": {},
   "source": [
    "#### Selecting the Appropriate Time Frame for Analysis\n",
    "\n",
    "By the 1970s, many modern aspects of the game were in place. For instance, the designated hitter rule was established in the American League in 1973, free agency began in the mid-1970s, and by the 1980s, training, nutrition, and medical treatment for players had evolved significantly. Furthermore, the quality and completeness of data tends to be better from the 1970s onward."
   ]
  },
  {
   "cell_type": "code",
   "execution_count": 201,
   "id": "ac68418b",
   "metadata": {},
   "outputs": [],
   "source": [
    "# Start from 1970 season\n",
    "df_modern = df[df['year_ID'] >= 1970]"
   ]
  },
  {
   "cell_type": "code",
   "execution_count": 204,
   "id": "997dbb2f",
   "metadata": {},
   "outputs": [
    {
     "data": {
      "text/plain": [
       "name_common               0\n",
       "age                       0\n",
       "player_ID                 0\n",
       "year_ID                   0\n",
       "team_ID                   0\n",
       "stint_ID                  0\n",
       "lg_ID                     0\n",
       "PA                      796\n",
       "G                         0\n",
       "Inn                       0\n",
       "runs_bat                  0\n",
       "runs_br                   0\n",
       "runs_dp                   0\n",
       "runs_field                0\n",
       "runs_infield              0\n",
       "runs_outfield             0\n",
       "runs_catcher              0\n",
       "runs_good_plays       35112\n",
       "runs_defense              0\n",
       "runs_position           796\n",
       "runs_position_p           0\n",
       "runs_replacement        796\n",
       "runs_above_rep          796\n",
       "runs_above_avg          796\n",
       "runs_above_avg_off      796\n",
       "runs_above_avg_def      796\n",
       "WAA                    9477\n",
       "WAA_off                9477\n",
       "WAA_def                9477\n",
       "WAR                    9799\n",
       "WAR_def                9477\n",
       "WAR_off                9799\n",
       "WAR_rep                9799\n",
       "salary                31020\n",
       "pitcher                 322\n",
       "teamRpG                9477\n",
       "oppRpG                    0\n",
       "oppRpPA_rep               0\n",
       "oppRpG_rep             9477\n",
       "pyth_exponent          9477\n",
       "pyth_exponent_rep      9477\n",
       "waa_win_perc           9477\n",
       "waa_win_perc_off       9477\n",
       "waa_win_perc_def       9477\n",
       "waa_win_perc_rep       9477\n",
       "OPS_plus              17324\n",
       "TOB_lg                    0\n",
       "TB_lg                     0\n",
       "dtype: int64"
      ]
     },
     "execution_count": 204,
     "metadata": {},
     "output_type": "execute_result"
    }
   ],
   "source": [
    "df_modern.isnull().sum()"
   ]
  },
  {
   "cell_type": "code",
   "execution_count": 205,
   "id": "f8f6096f",
   "metadata": {},
   "outputs": [
    {
     "data": {
      "text/plain": [
       "232471"
      ]
     },
     "execution_count": 205,
     "metadata": {},
     "output_type": "execute_result"
    }
   ],
   "source": [
    "df_modern.isnull().sum().sum()"
   ]
  },
  {
   "cell_type": "code",
   "execution_count": 203,
   "id": "2b1a7d15",
   "metadata": {},
   "outputs": [
    {
     "data": {
      "text/plain": [
       "(64587, 48)"
      ]
     },
     "execution_count": 203,
     "metadata": {},
     "output_type": "execute_result"
    }
   ],
   "source": [
    "df_modern.shape"
   ]
  },
  {
   "cell_type": "code",
   "execution_count": 206,
   "id": "26f74e26",
   "metadata": {},
   "outputs": [],
   "source": [
    "# Drop Pitchers\n",
    "df_modern = df_modern[df_modern['pitcher'] != 'Y']"
   ]
  },
  {
   "cell_type": "code",
   "execution_count": 208,
   "id": "0fdd9fbd",
   "metadata": {},
   "outputs": [
    {
     "data": {
      "text/plain": [
       "name_common               0\n",
       "age                       0\n",
       "player_ID                 0\n",
       "year_ID                   0\n",
       "team_ID                   0\n",
       "stint_ID                  0\n",
       "lg_ID                     0\n",
       "PA                        0\n",
       "G                         0\n",
       "Inn                       0\n",
       "runs_bat                  0\n",
       "runs_br                   0\n",
       "runs_dp                   0\n",
       "runs_field                0\n",
       "runs_infield              0\n",
       "runs_outfield             0\n",
       "runs_catcher              0\n",
       "runs_good_plays       19535\n",
       "runs_defense              0\n",
       "runs_position             0\n",
       "runs_position_p           0\n",
       "runs_replacement          0\n",
       "runs_above_rep            0\n",
       "runs_above_avg            0\n",
       "runs_above_avg_off        0\n",
       "runs_above_avg_def        0\n",
       "WAA                       1\n",
       "WAA_off                   1\n",
       "WAA_def                   1\n",
       "WAR                     323\n",
       "WAR_def                   1\n",
       "WAR_off                 323\n",
       "WAR_rep                 323\n",
       "salary                15713\n",
       "pitcher                 322\n",
       "teamRpG                   1\n",
       "oppRpG                    0\n",
       "oppRpPA_rep               0\n",
       "oppRpG_rep                1\n",
       "pyth_exponent             1\n",
       "pyth_exponent_rep         1\n",
       "waa_win_perc              1\n",
       "waa_win_perc_off          1\n",
       "waa_win_perc_def          1\n",
       "waa_win_perc_rep          1\n",
       "OPS_plus                159\n",
       "TOB_lg                    0\n",
       "TB_lg                     0\n",
       "dtype: int64"
      ]
     },
     "execution_count": 208,
     "metadata": {},
     "output_type": "execute_result"
    }
   ],
   "source": [
    "df_modern.isnull().sum()"
   ]
  },
  {
   "cell_type": "code",
   "execution_count": 209,
   "id": "f135b993",
   "metadata": {},
   "outputs": [
    {
     "data": {
      "text/plain": [
       "36710"
      ]
     },
     "execution_count": 209,
     "metadata": {},
     "output_type": "execute_result"
    }
   ],
   "source": [
    "df_modern.isnull().sum().sum()"
   ]
  },
  {
   "cell_type": "code",
   "execution_count": 211,
   "id": "40e00a68",
   "metadata": {},
   "outputs": [
    {
     "data": {
      "text/plain": [
       "(33308, 48)"
      ]
     },
     "execution_count": 211,
     "metadata": {},
     "output_type": "execute_result"
    }
   ],
   "source": [
    "# Drop 2023 season\n",
    "df_modern = df_modern[df_modern['year_ID'] != 2023]\n",
    "df_modern.shape"
   ]
  },
  {
   "cell_type": "code",
   "execution_count": 213,
   "id": "e4317c47",
   "metadata": {},
   "outputs": [
    {
     "data": {
      "text/plain": [
       "name_common               0\n",
       "age                       0\n",
       "player_ID                 0\n",
       "year_ID                   0\n",
       "team_ID                   0\n",
       "stint_ID                  0\n",
       "lg_ID                     0\n",
       "PA                        0\n",
       "G                         0\n",
       "Inn                       0\n",
       "runs_bat                  0\n",
       "runs_br                   0\n",
       "runs_dp                   0\n",
       "runs_field                0\n",
       "runs_infield              0\n",
       "runs_outfield             0\n",
       "runs_catcher              0\n",
       "runs_good_plays       19535\n",
       "runs_defense              0\n",
       "runs_position             0\n",
       "runs_position_p           0\n",
       "runs_replacement          0\n",
       "runs_above_rep            0\n",
       "runs_above_avg            0\n",
       "runs_above_avg_off        0\n",
       "runs_above_avg_def        0\n",
       "WAA                       1\n",
       "WAA_off                   1\n",
       "WAA_def                   1\n",
       "WAR                     320\n",
       "WAR_def                   1\n",
       "WAR_off                 320\n",
       "WAR_rep                 320\n",
       "salary                15558\n",
       "pitcher                 319\n",
       "teamRpG                   1\n",
       "oppRpG                    0\n",
       "oppRpPA_rep               0\n",
       "oppRpG_rep                1\n",
       "pyth_exponent             1\n",
       "pyth_exponent_rep         1\n",
       "waa_win_perc              1\n",
       "waa_win_perc_off          1\n",
       "waa_win_perc_def          1\n",
       "waa_win_perc_rep          1\n",
       "OPS_plus                154\n",
       "TOB_lg                    0\n",
       "TB_lg                     0\n",
       "dtype: int64"
      ]
     },
     "execution_count": 213,
     "metadata": {},
     "output_type": "execute_result"
    }
   ],
   "source": [
    "df_modern.isnull().sum()"
   ]
  },
  {
   "cell_type": "code",
   "execution_count": 215,
   "id": "32d0f351",
   "metadata": {},
   "outputs": [
    {
     "data": {
      "text/plain": [
       "36538"
      ]
     },
     "execution_count": 215,
     "metadata": {},
     "output_type": "execute_result"
    }
   ],
   "source": [
    "df_modern.isnull().sum().sum()"
   ]
  },
  {
   "cell_type": "code",
   "execution_count": 217,
   "id": "397dc927",
   "metadata": {},
   "outputs": [],
   "source": [
    "# Drop Players with G as zero\n",
    "df_modern = df_modern[df_modern['G'] != 0]"
   ]
  },
  {
   "cell_type": "code",
   "execution_count": 219,
   "id": "d7fc403b",
   "metadata": {},
   "outputs": [
    {
     "data": {
      "text/plain": [
       "name_common               0\n",
       "age                       0\n",
       "player_ID                 0\n",
       "year_ID                   0\n",
       "team_ID                   0\n",
       "stint_ID                  0\n",
       "lg_ID                     0\n",
       "PA                        0\n",
       "G                         0\n",
       "Inn                       0\n",
       "runs_bat                  0\n",
       "runs_br                   0\n",
       "runs_dp                   0\n",
       "runs_field                0\n",
       "runs_infield              0\n",
       "runs_outfield             0\n",
       "runs_catcher              0\n",
       "runs_good_plays       19535\n",
       "runs_defense              0\n",
       "runs_position             0\n",
       "runs_position_p           0\n",
       "runs_replacement          0\n",
       "runs_above_rep            0\n",
       "runs_above_avg            0\n",
       "runs_above_avg_off        0\n",
       "runs_above_avg_def        0\n",
       "WAA                       0\n",
       "WAA_off                   0\n",
       "WAA_def                   0\n",
       "WAR                     319\n",
       "WAR_def                   0\n",
       "WAR_off                 319\n",
       "WAR_rep                 319\n",
       "salary                15557\n",
       "pitcher                 319\n",
       "teamRpG                   0\n",
       "oppRpG                    0\n",
       "oppRpPA_rep               0\n",
       "oppRpG_rep                0\n",
       "pyth_exponent             0\n",
       "pyth_exponent_rep         0\n",
       "waa_win_perc              0\n",
       "waa_win_perc_off          0\n",
       "waa_win_perc_def          0\n",
       "waa_win_perc_rep          0\n",
       "OPS_plus                153\n",
       "TOB_lg                    0\n",
       "TB_lg                     0\n",
       "dtype: int64"
      ]
     },
     "execution_count": 219,
     "metadata": {},
     "output_type": "execute_result"
    }
   ],
   "source": [
    "df_modern.isnull().sum()"
   ]
  },
  {
   "cell_type": "code",
   "execution_count": 220,
   "id": "337e8067",
   "metadata": {},
   "outputs": [
    {
     "data": {
      "text/plain": [
       "36521"
      ]
     },
     "execution_count": 220,
     "metadata": {},
     "output_type": "execute_result"
    }
   ],
   "source": [
    "df_modern.isnull().sum().sum()"
   ]
  },
  {
   "cell_type": "code",
   "execution_count": 222,
   "id": "3d1c91a8",
   "metadata": {},
   "outputs": [],
   "source": [
    "# Drop Players with PA as zero\n",
    "df_modern = df_modern[df_modern['PA'] != 0]"
   ]
  },
  {
   "cell_type": "code",
   "execution_count": 224,
   "id": "6916c926",
   "metadata": {},
   "outputs": [
    {
     "data": {
      "text/plain": [
       "name_common               0\n",
       "age                       0\n",
       "player_ID                 0\n",
       "year_ID                   0\n",
       "team_ID                   0\n",
       "stint_ID                  0\n",
       "lg_ID                     0\n",
       "PA                        0\n",
       "G                         0\n",
       "Inn                       0\n",
       "runs_bat                  0\n",
       "runs_br                   0\n",
       "runs_dp                   0\n",
       "runs_field                0\n",
       "runs_infield              0\n",
       "runs_outfield             0\n",
       "runs_catcher              0\n",
       "runs_good_plays       19446\n",
       "runs_defense              0\n",
       "runs_position             0\n",
       "runs_position_p           0\n",
       "runs_replacement          0\n",
       "runs_above_rep            0\n",
       "runs_above_avg            0\n",
       "runs_above_avg_off        0\n",
       "runs_above_avg_def        0\n",
       "WAA                       0\n",
       "WAA_off                   0\n",
       "WAA_def                   0\n",
       "WAR                     290\n",
       "WAR_def                   0\n",
       "WAR_off                 290\n",
       "WAR_rep                 290\n",
       "salary                15446\n",
       "pitcher                 290\n",
       "teamRpG                   0\n",
       "oppRpG                    0\n",
       "oppRpPA_rep               0\n",
       "oppRpG_rep                0\n",
       "pyth_exponent             0\n",
       "pyth_exponent_rep         0\n",
       "waa_win_perc              0\n",
       "waa_win_perc_off          0\n",
       "waa_win_perc_def          0\n",
       "waa_win_perc_rep          0\n",
       "OPS_plus                 18\n",
       "TOB_lg                    0\n",
       "TB_lg                     0\n",
       "dtype: int64"
      ]
     },
     "execution_count": 224,
     "metadata": {},
     "output_type": "execute_result"
    }
   ],
   "source": [
    "df_modern.isnull().sum()"
   ]
  },
  {
   "cell_type": "code",
   "execution_count": 225,
   "id": "98fab75f",
   "metadata": {},
   "outputs": [
    {
     "data": {
      "text/plain": [
       "36070"
      ]
     },
     "execution_count": 225,
     "metadata": {},
     "output_type": "execute_result"
    }
   ],
   "source": [
    "df_modern.isnull().sum().sum()"
   ]
  },
  {
   "cell_type": "code",
   "execution_count": 194,
   "id": "a80a35f1",
   "metadata": {},
   "outputs": [
    {
     "data": {
      "text/plain": [
       "count    1154.000000\n",
       "mean        3.758232\n",
       "std         5.866951\n",
       "min         1.000000\n",
       "25%         1.000000\n",
       "50%         2.000000\n",
       "75%         4.000000\n",
       "max        76.000000\n",
       "Name: PA, dtype: float64"
      ]
     },
     "execution_count": 194,
     "metadata": {},
     "output_type": "execute_result"
    }
   ],
   "source": [
    "# Show player with WAR as null\n",
    "df_modern[df_modern['WAR'].isnull()]['PA'].describe()"
   ]
  },
  {
   "cell_type": "code",
   "execution_count": 226,
   "id": "adb71561",
   "metadata": {},
   "outputs": [
    {
     "data": {
      "text/plain": [
       "16344"
      ]
     },
     "execution_count": 226,
     "metadata": {},
     "output_type": "execute_result"
    }
   ],
   "source": [
    "# Show player with less than 100 PA\n",
    "df_modern[df_modern['PA'] < 100].isnull().sum().sum()"
   ]
  },
  {
   "cell_type": "code",
   "execution_count": 227,
   "id": "bd67a8ce",
   "metadata": {},
   "outputs": [],
   "source": [
    "# Drop players with less than 100 PA\n",
    "df_modern = df_modern[df_modern['PA'] >= 100]"
   ]
  },
  {
   "cell_type": "code",
   "execution_count": 230,
   "id": "7b71e79f",
   "metadata": {},
   "outputs": [
    {
     "data": {
      "text/plain": [
       "(21842, 48)"
      ]
     },
     "execution_count": 230,
     "metadata": {},
     "output_type": "execute_result"
    }
   ],
   "source": [
    "df_modern.shape"
   ]
  },
  {
   "cell_type": "code",
   "execution_count": 228,
   "id": "e8f14c9d",
   "metadata": {},
   "outputs": [
    {
     "data": {
      "text/plain": [
       "name_common               0\n",
       "age                       0\n",
       "player_ID                 0\n",
       "year_ID                   0\n",
       "team_ID                   0\n",
       "stint_ID                  0\n",
       "lg_ID                     0\n",
       "PA                        0\n",
       "G                         0\n",
       "Inn                       0\n",
       "runs_bat                  0\n",
       "runs_br                   0\n",
       "runs_dp                   0\n",
       "runs_field                0\n",
       "runs_infield              0\n",
       "runs_outfield             0\n",
       "runs_catcher              0\n",
       "runs_good_plays       12815\n",
       "runs_defense              0\n",
       "runs_position             0\n",
       "runs_position_p           0\n",
       "runs_replacement          0\n",
       "runs_above_rep            0\n",
       "runs_above_avg            0\n",
       "runs_above_avg_off        0\n",
       "runs_above_avg_def        0\n",
       "WAA                       0\n",
       "WAA_off                   0\n",
       "WAA_def                   0\n",
       "WAR                       0\n",
       "WAR_def                   0\n",
       "WAR_off                   0\n",
       "WAR_rep                   0\n",
       "salary                 6911\n",
       "pitcher                   0\n",
       "teamRpG                   0\n",
       "oppRpG                    0\n",
       "oppRpPA_rep               0\n",
       "oppRpG_rep                0\n",
       "pyth_exponent             0\n",
       "pyth_exponent_rep         0\n",
       "waa_win_perc              0\n",
       "waa_win_perc_off          0\n",
       "waa_win_perc_def          0\n",
       "waa_win_perc_rep          0\n",
       "OPS_plus                  0\n",
       "TOB_lg                    0\n",
       "TB_lg                     0\n",
       "dtype: int64"
      ]
     },
     "execution_count": 228,
     "metadata": {},
     "output_type": "execute_result"
    }
   ],
   "source": [
    "df_modern.isnull().sum()"
   ]
  },
  {
   "cell_type": "code",
   "execution_count": 229,
   "id": "45437fd4",
   "metadata": {},
   "outputs": [
    {
     "data": {
      "text/plain": [
       "19726"
      ]
     },
     "execution_count": 229,
     "metadata": {},
     "output_type": "execute_result"
    }
   ],
   "source": [
    "df_modern.isnull().sum().sum()"
   ]
  }
 ],
 "metadata": {
  "kernelspec": {
   "display_name": "Python 3 (ipykernel)",
   "language": "python",
   "name": "python3"
  },
  "language_info": {
   "codemirror_mode": {
    "name": "ipython",
    "version": 3
   },
   "file_extension": ".py",
   "mimetype": "text/x-python",
   "name": "python",
   "nbconvert_exporter": "python",
   "pygments_lexer": "ipython3",
   "version": "3.10.9"
  }
 },
 "nbformat": 4,
 "nbformat_minor": 5
}
