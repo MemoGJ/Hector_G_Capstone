{
 "cells": [
  {
   "attachments": {},
   "cell_type": "markdown",
   "id": "b26946cf",
   "metadata": {},
   "source": [
    "# Data Wrangling\n",
    " Data cleaning and preprocessing. Transforming raw data into a format that can be easily analyzed. \n",
    "## Contents:\n",
    "- Data exploration for every dataset\n",
    "- Data cleaning\n",
    "- Data Joining/Merging"
   ]
  },
  {
   "cell_type": "code",
   "execution_count": 2,
   "id": "aa218c2f",
   "metadata": {},
   "outputs": [],
   "source": [
    "# Import necessary libraries\n",
    "import pandas as pd\n",
    "import numpy as np\n",
    "import statsmodels.api as sm\n",
    "import matplotlib.pyplot as plt\n",
    "import seaborn as sns"
   ]
  },
  {
   "cell_type": "code",
   "execution_count": 5,
   "id": "06d8dae2",
   "metadata": {},
   "outputs": [],
   "source": [
    "# Load datasets\n",
    "raw_war = pd.read_csv('Raw datasets/war_daily_bat.csv')\n",
    "raw_teams = pd.read_csv('Raw datasets/Teams.csv')\n",
    "raw_batting = pd.read_csv('Raw datasets/Batting.csv')\n",
    "raw_people = pd.read_csv('Raw datasets/People.csv')\n",
    "raw_salaries = pd.read_csv('Raw datasets/Salaries.csv')"
   ]
  },
  {
   "cell_type": "code",
   "execution_count": 6,
   "id": "6333cf2c",
   "metadata": {},
   "outputs": [
    {
     "name": "stdout",
     "output_type": "stream",
     "text": [
      "\n",
      "raw_war:\n",
      "Shape: (121375, 49)\n",
      "     name_common   age    mlb_ID  player_ID  year_ID team_ID  stint_ID lg_ID  \\\n",
      "0  David Aardsma  22.0  430911.0  aardsda01     2004     SFG         1    NL   \n",
      "1  David Aardsma  24.0  430911.0  aardsda01     2006     CHC         1    NL   \n",
      "2  David Aardsma  25.0  430911.0  aardsda01     2007     CHW         1    AL   \n",
      "3  David Aardsma  26.0  430911.0  aardsda01     2008     BOS         1    AL   \n",
      "4  David Aardsma  27.0  430911.0  aardsda01     2009     SEA         1    AL   \n",
      "\n",
      "    PA   G  ...  oppRpG_rep  pyth_exponent  pyth_exponent_rep  waa_win_perc  \\\n",
      "0  0.0  11  ...     4.67092          1.890              1.890         0.500   \n",
      "1  3.0  43  ...     4.86457          1.912              1.913         0.499   \n",
      "2  0.0   2  ...     4.85895          1.912              1.912         0.500   \n",
      "3  1.0   5  ...     4.69650          1.893              1.894         0.497   \n",
      "4  0.0   3  ...     4.79788          1.905              1.905         0.500   \n",
      "\n",
      "   waa_win_perc_off  waa_win_perc_def  waa_win_perc_rep  OPS_plus  TOB_lg  \\\n",
      "0             0.500               0.5            0.5000       NaN   0.000   \n",
      "1             0.499               0.5            0.4998    -100.0   0.694   \n",
      "2             0.500               0.5            0.5000       NaN   0.000   \n",
      "3             0.497               0.5            0.4992    -100.0   0.345   \n",
      "4             0.500               0.5            0.5000       NaN   0.000   \n",
      "\n",
      "   TB_lg  \n",
      "0  0.000  \n",
      "1  0.896  \n",
      "2  0.000  \n",
      "3  0.434  \n",
      "4  0.000  \n",
      "\n",
      "[5 rows x 49 columns]\n",
      "\n",
      "raw_teams:\n",
      "Shape: (3015, 48)\n",
      "   yearID lgID teamID franchID divID  Rank   G  Ghome   W   L  ...  DP     FP  \\\n",
      "0    1871  NaN    BS1      BNA   NaN     3  31    NaN  20  10  ...  24  0.834   \n",
      "1    1871  NaN    CH1      CNA   NaN     2  28    NaN  19   9  ...  16  0.829   \n",
      "2    1871  NaN    CL1      CFC   NaN     8  29    NaN  10  19  ...  15  0.818   \n",
      "3    1871  NaN    FW1      KEK   NaN     7  19    NaN   7  12  ...   8  0.803   \n",
      "4    1871  NaN    NY2      NNA   NaN     5  33    NaN  16  17  ...  14  0.840   \n",
      "\n",
      "                      name                          park  attendance  BPF  \\\n",
      "0     Boston Red Stockings           South End Grounds I         NaN  103   \n",
      "1  Chicago White Stockings       Union Base-Ball Grounds         NaN  104   \n",
      "2   Cleveland Forest Citys  National Association Grounds         NaN   96   \n",
      "3     Fort Wayne Kekiongas                Hamilton Field         NaN  101   \n",
      "4         New York Mutuals      Union Grounds (Brooklyn)         NaN   90   \n",
      "\n",
      "   PPF  teamIDBR  teamIDlahman45  teamIDretro  \n",
      "0   98       BOS             BS1          BS1  \n",
      "1  102       CHI             CH1          CH1  \n",
      "2  100       CLE             CL1          CL1  \n",
      "3  107       KEK             FW1          FW1  \n",
      "4   88       NYU             NY2          NY2  \n",
      "\n",
      "[5 rows x 48 columns]\n",
      "\n",
      "raw_batting:\n",
      "Shape: (112184, 22)\n",
      "    playerID  yearID  stint teamID lgID   G   AB   R   H  2B  ...   RBI   SB  \\\n",
      "0  abercda01    1871      1    TRO  NaN   1    4   0   0   0  ...   0.0  0.0   \n",
      "1   addybo01    1871      1    RC1  NaN  25  118  30  32   6  ...  13.0  8.0   \n",
      "2  allisar01    1871      1    CL1  NaN  29  137  28  40   4  ...  19.0  3.0   \n",
      "3  allisdo01    1871      1    WS3  NaN  27  133  28  44  10  ...  27.0  1.0   \n",
      "4  ansonca01    1871      1    RC1  NaN  25  120  29  39  11  ...  16.0  6.0   \n",
      "\n",
      "    CS  BB   SO  IBB  HBP  SH  SF  GIDP  \n",
      "0  0.0   0  0.0  NaN  NaN NaN NaN   0.0  \n",
      "1  1.0   4  0.0  NaN  NaN NaN NaN   0.0  \n",
      "2  1.0   2  5.0  NaN  NaN NaN NaN   1.0  \n",
      "3  1.0   0  2.0  NaN  NaN NaN NaN   0.0  \n",
      "4  2.0   2  1.0  NaN  NaN NaN NaN   0.0  \n",
      "\n",
      "[5 rows x 22 columns]\n",
      "\n",
      "raw_people:\n",
      "Shape: (20811, 24)\n",
      "    playerID  birthYear  birthMonth  birthDay birthCountry birthState  \\\n",
      "0  aardsda01     1981.0        12.0      27.0          USA         CO   \n",
      "1  aaronha01     1934.0         2.0       5.0          USA         AL   \n",
      "2  aaronto01     1939.0         8.0       5.0          USA         AL   \n",
      "3   aasedo01     1954.0         9.0       8.0          USA         CA   \n",
      "4   abadan01     1972.0         8.0      25.0          USA         FL   \n",
      "\n",
      "    birthCity  deathYear  deathMonth  deathDay  ... nameLast       nameGiven  \\\n",
      "0      Denver        NaN         NaN       NaN  ...  Aardsma     David Allan   \n",
      "1      Mobile     2021.0         1.0      22.0  ...    Aaron     Henry Louis   \n",
      "2      Mobile     1984.0         8.0      16.0  ...    Aaron      Tommie Lee   \n",
      "3      Orange        NaN         NaN       NaN  ...     Aase  Donald William   \n",
      "4  Palm Beach        NaN         NaN       NaN  ...     Abad   Fausto Andres   \n",
      "\n",
      "  weight height bats throws       debut   finalGame   retroID    bbrefID  \n",
      "0  215.0   75.0    R      R  2004-04-06  2015-08-23  aardd001  aardsda01  \n",
      "1  180.0   72.0    R      R  1954-04-13  1976-10-03  aaroh101  aaronha01  \n",
      "2  190.0   75.0    R      R  1962-04-10  1971-09-26  aarot101  aaronto01  \n",
      "3  190.0   75.0    R      R  1977-07-26  1990-10-03  aased001   aasedo01  \n",
      "4  184.0   73.0    L      L  2001-09-10  2006-04-13  abada001   abadan01  \n",
      "\n",
      "[5 rows x 24 columns]\n",
      "\n",
      "raw_salaries:\n",
      "Shape: (26428, 5)\n",
      "   yearID teamID lgID   playerID  salary\n",
      "0    1985    ATL   NL  barkele01  870000\n",
      "1    1985    ATL   NL  bedrost01  550000\n",
      "2    1985    ATL   NL  benedbr01  545000\n",
      "3    1985    ATL   NL   campri01  633333\n",
      "4    1985    ATL   NL  ceronri01  625000\n"
     ]
    }
   ],
   "source": [
    "# Check the shape of the datasets and view the first few rows\n",
    "datasets = [raw_war, raw_teams, raw_batting, raw_people, raw_salaries]\n",
    "dataset_names = ['raw_war', 'raw_teams', 'raw_batting', 'raw_people', 'raw_salaries']\n",
    "\n",
    "for dataset, name in zip(datasets, dataset_names):\n",
    "    print(f'\\n{name}:')\n",
    "    print(f'Shape: {dataset.shape}')\n",
    "    print(dataset.head())"
   ]
  },
  {
   "attachments": {},
   "cell_type": "markdown",
   "id": "d0f6792b",
   "metadata": {},
   "source": [
    "### Datasets\n",
    "- **raw_war:** "
   ]
  },
  {
   "cell_type": "code",
   "execution_count": 7,
   "id": "6a61d08b",
   "metadata": {
    "scrolled": true
   },
   "outputs": [
    {
     "data": {
      "text/plain": [
       "Index(['name_common', 'age', 'mlb_ID', 'player_ID', 'year_ID', 'team_ID',\n",
       "       'stint_ID', 'lg_ID', 'PA', 'G', 'Inn', 'runs_bat', 'runs_br', 'runs_dp',\n",
       "       'runs_field', 'runs_infield', 'runs_outfield', 'runs_catcher',\n",
       "       'runs_good_plays', 'runs_defense', 'runs_position', 'runs_position_p',\n",
       "       'runs_replacement', 'runs_above_rep', 'runs_above_avg',\n",
       "       'runs_above_avg_off', 'runs_above_avg_def', 'WAA', 'WAA_off', 'WAA_def',\n",
       "       'WAR', 'WAR_def', 'WAR_off', 'WAR_rep', 'salary', 'pitcher', 'teamRpG',\n",
       "       'oppRpG', 'oppRpPA_rep', 'oppRpG_rep', 'pyth_exponent',\n",
       "       'pyth_exponent_rep', 'waa_win_perc', 'waa_win_perc_off',\n",
       "       'waa_win_perc_def', 'waa_win_perc_rep', 'OPS_plus', 'TOB_lg', 'TB_lg'],\n",
       "      dtype='object')"
      ]
     },
     "execution_count": 7,
     "metadata": {},
     "output_type": "execute_result"
    }
   ],
   "source": [
    "# Overview of the data with a 10 row sample\n",
    "raw_war.columns"
   ]
  },
  {
   "cell_type": "code",
   "execution_count": 177,
   "id": "361e04e9",
   "metadata": {},
   "outputs": [
    {
     "data": {
      "text/plain": [
       "(121375, 49)"
      ]
     },
     "execution_count": 177,
     "metadata": {},
     "output_type": "execute_result"
    }
   ],
   "source": [
    "# Shape of dataframe\n",
    "df.shape"
   ]
  },
  {
   "cell_type": "code",
   "execution_count": 178,
   "id": "5336cb43",
   "metadata": {},
   "outputs": [
    {
     "name": "stdout",
     "output_type": "stream",
     "text": [
      "Number of rows:  121375\n",
      "Number of columns:  49\n"
     ]
    }
   ],
   "source": [
    "print(\"Number of rows: \", df.shape[0])\n",
    "print(\"Number of columns: \", df.shape[1])"
   ]
  },
  {
   "cell_type": "code",
   "execution_count": 179,
   "id": "86b926fe",
   "metadata": {},
   "outputs": [
    {
     "data": {
      "text/plain": [
       "name_common            object\n",
       "age                   float64\n",
       "mlb_ID                float64\n",
       "player_ID              object\n",
       "year_ID                 int64\n",
       "team_ID                object\n",
       "stint_ID                int64\n",
       "lg_ID                  object\n",
       "PA                    float64\n",
       "G                       int64\n",
       "Inn                   float64\n",
       "runs_bat              float64\n",
       "runs_br               float64\n",
       "runs_dp               float64\n",
       "runs_field            float64\n",
       "runs_infield          float64\n",
       "runs_outfield         float64\n",
       "runs_catcher          float64\n",
       "runs_good_plays       float64\n",
       "runs_defense          float64\n",
       "runs_position         float64\n",
       "runs_position_p       float64\n",
       "runs_replacement      float64\n",
       "runs_above_rep        float64\n",
       "runs_above_avg        float64\n",
       "runs_above_avg_off    float64\n",
       "runs_above_avg_def    float64\n",
       "WAA                   float64\n",
       "WAA_off               float64\n",
       "WAA_def               float64\n",
       "WAR                   float64\n",
       "WAR_def               float64\n",
       "WAR_off               float64\n",
       "WAR_rep               float64\n",
       "salary                float64\n",
       "pitcher                object\n",
       "teamRpG               float64\n",
       "oppRpG                float64\n",
       "oppRpPA_rep           float64\n",
       "oppRpG_rep            float64\n",
       "pyth_exponent         float64\n",
       "pyth_exponent_rep     float64\n",
       "waa_win_perc          float64\n",
       "waa_win_perc_off      float64\n",
       "waa_win_perc_def      float64\n",
       "waa_win_perc_rep      float64\n",
       "OPS_plus              float64\n",
       "TOB_lg                float64\n",
       "TB_lg                 float64\n",
       "dtype: object"
      ]
     },
     "execution_count": 179,
     "metadata": {},
     "output_type": "execute_result"
    }
   ],
   "source": [
    "# Data types of each column\n",
    "df.dtypes"
   ]
  },
  {
   "cell_type": "code",
   "execution_count": 180,
   "id": "b4cd27c9",
   "metadata": {},
   "outputs": [
    {
     "data": {
      "text/plain": [
       "name_common               0\n",
       "age                    1388\n",
       "mlb_ID                 8388\n",
       "player_ID                 0\n",
       "year_ID                   0\n",
       "team_ID                   0\n",
       "stint_ID                  0\n",
       "lg_ID                   736\n",
       "PA                      802\n",
       "G                         0\n",
       "Inn                   44908\n",
       "runs_bat                  0\n",
       "runs_br                   0\n",
       "runs_dp                   0\n",
       "runs_field                0\n",
       "runs_infield          44908\n",
       "runs_outfield         44908\n",
       "runs_catcher          44908\n",
       "runs_good_plays       91900\n",
       "runs_defense              0\n",
       "runs_position           988\n",
       "runs_position_p           1\n",
       "runs_replacement        802\n",
       "runs_above_rep          988\n",
       "runs_above_avg          988\n",
       "runs_above_avg_off      988\n",
       "runs_above_avg_def      988\n",
       "WAA                    9669\n",
       "WAA_off                9669\n",
       "WAA_def                9669\n",
       "WAR                   10812\n",
       "WAR_def                9669\n",
       "WAR_off               10812\n",
       "WAR_rep               10626\n",
       "salary                73429\n",
       "pitcher                1143\n",
       "teamRpG                9669\n",
       "oppRpG                    0\n",
       "oppRpPA_rep               0\n",
       "oppRpG_rep             9483\n",
       "pyth_exponent          9669\n",
       "pyth_exponent_rep      9483\n",
       "waa_win_perc           9669\n",
       "waa_win_perc_off       9669\n",
       "waa_win_perc_def       9669\n",
       "waa_win_perc_rep       9483\n",
       "OPS_plus              19378\n",
       "TOB_lg                    6\n",
       "TB_lg                     6\n",
       "dtype: int64"
      ]
     },
     "execution_count": 180,
     "metadata": {},
     "output_type": "execute_result"
    }
   ],
   "source": [
    "# check for missing values\n",
    "df.isnull().sum()"
   ]
  },
  {
   "cell_type": "code",
   "execution_count": 181,
   "id": "bde2fa18",
   "metadata": {},
   "outputs": [
    {
     "data": {
      "text/html": [
       "<div>\n",
       "<style scoped>\n",
       "    .dataframe tbody tr th:only-of-type {\n",
       "        vertical-align: middle;\n",
       "    }\n",
       "\n",
       "    .dataframe tbody tr th {\n",
       "        vertical-align: top;\n",
       "    }\n",
       "\n",
       "    .dataframe thead th {\n",
       "        text-align: right;\n",
       "    }\n",
       "</style>\n",
       "<table border=\"1\" class=\"dataframe\">\n",
       "  <thead>\n",
       "    <tr style=\"text-align: right;\">\n",
       "      <th></th>\n",
       "      <th>age</th>\n",
       "      <th>mlb_ID</th>\n",
       "      <th>year_ID</th>\n",
       "      <th>stint_ID</th>\n",
       "      <th>PA</th>\n",
       "      <th>G</th>\n",
       "      <th>Inn</th>\n",
       "      <th>runs_bat</th>\n",
       "      <th>runs_br</th>\n",
       "      <th>runs_dp</th>\n",
       "      <th>...</th>\n",
       "      <th>oppRpG_rep</th>\n",
       "      <th>pyth_exponent</th>\n",
       "      <th>pyth_exponent_rep</th>\n",
       "      <th>waa_win_perc</th>\n",
       "      <th>waa_win_perc_off</th>\n",
       "      <th>waa_win_perc_def</th>\n",
       "      <th>waa_win_perc_rep</th>\n",
       "      <th>OPS_plus</th>\n",
       "      <th>TOB_lg</th>\n",
       "      <th>TB_lg</th>\n",
       "    </tr>\n",
       "  </thead>\n",
       "  <tbody>\n",
       "    <tr>\n",
       "      <th>count</th>\n",
       "      <td>119987.000000</td>\n",
       "      <td>112987.000000</td>\n",
       "      <td>121375.000000</td>\n",
       "      <td>121375.000000</td>\n",
       "      <td>120573.000000</td>\n",
       "      <td>121375.000000</td>\n",
       "      <td>76467.000000</td>\n",
       "      <td>121375.000000</td>\n",
       "      <td>121375.000000</td>\n",
       "      <td>121375.000000</td>\n",
       "      <td>...</td>\n",
       "      <td>111892.000000</td>\n",
       "      <td>111706.000000</td>\n",
       "      <td>111892.000000</td>\n",
       "      <td>111706.000000</td>\n",
       "      <td>111706.000000</td>\n",
       "      <td>111706.000000</td>\n",
       "      <td>111892.000000</td>\n",
       "      <td>101997.000000</td>\n",
       "      <td>121369.000000</td>\n",
       "      <td>121369.000000</td>\n",
       "    </tr>\n",
       "    <tr>\n",
       "      <th>mean</th>\n",
       "      <td>27.787135</td>\n",
       "      <td>207916.047262</td>\n",
       "      <td>1966.710904</td>\n",
       "      <td>1.025714</td>\n",
       "      <td>149.459182</td>\n",
       "      <td>45.152066</td>\n",
       "      <td>313.949138</td>\n",
       "      <td>-0.791258</td>\n",
       "      <td>0.000270</td>\n",
       "      <td>-0.000342</td>\n",
       "      <td>...</td>\n",
       "      <td>4.527066</td>\n",
       "      <td>1.877152</td>\n",
       "      <td>1.874663</td>\n",
       "      <td>0.495399</td>\n",
       "      <td>0.496085</td>\n",
       "      <td>0.499387</td>\n",
       "      <td>0.491576</td>\n",
       "      <td>53.769473</td>\n",
       "      <td>48.877443</td>\n",
       "      <td>52.426025</td>\n",
       "    </tr>\n",
       "    <tr>\n",
       "      <th>std</th>\n",
       "      <td>4.436740</td>\n",
       "      <td>169142.978896</td>\n",
       "      <td>39.910613</td>\n",
       "      <td>0.383629</td>\n",
       "      <td>200.635289</td>\n",
       "      <td>47.710997</td>\n",
       "      <td>403.734140</td>\n",
       "      <td>9.153787</td>\n",
       "      <td>1.067511</td>\n",
       "      <td>0.592303</td>\n",
       "      <td>...</td>\n",
       "      <td>0.677578</td>\n",
       "      <td>0.075139</td>\n",
       "      <td>0.074956</td>\n",
       "      <td>0.021080</td>\n",
       "      <td>0.018711</td>\n",
       "      <td>0.009019</td>\n",
       "      <td>0.005119</td>\n",
       "      <td>85.034772</td>\n",
       "      <td>66.489481</td>\n",
       "      <td>71.173247</td>\n",
       "    </tr>\n",
       "    <tr>\n",
       "      <th>min</th>\n",
       "      <td>15.000000</td>\n",
       "      <td>110001.000000</td>\n",
       "      <td>1871.000000</td>\n",
       "      <td>0.000000</td>\n",
       "      <td>0.000000</td>\n",
       "      <td>0.000000</td>\n",
       "      <td>0.000000</td>\n",
       "      <td>-64.050000</td>\n",
       "      <td>-8.210000</td>\n",
       "      <td>-6.200000</td>\n",
       "      <td>...</td>\n",
       "      <td>3.189750</td>\n",
       "      <td>1.682000</td>\n",
       "      <td>1.706000</td>\n",
       "      <td>0.238000</td>\n",
       "      <td>0.325200</td>\n",
       "      <td>0.273600</td>\n",
       "      <td>0.480200</td>\n",
       "      <td>-100.000000</td>\n",
       "      <td>0.000000</td>\n",
       "      <td>0.000000</td>\n",
       "    </tr>\n",
       "    <tr>\n",
       "      <th>25%</th>\n",
       "      <td>25.000000</td>\n",
       "      <td>115103.000000</td>\n",
       "      <td>1935.000000</td>\n",
       "      <td>1.000000</td>\n",
       "      <td>4.000000</td>\n",
       "      <td>5.000000</td>\n",
       "      <td>33.000000</td>\n",
       "      <td>-4.140000</td>\n",
       "      <td>-0.170000</td>\n",
       "      <td>0.000000</td>\n",
       "      <td>...</td>\n",
       "      <td>4.086150</td>\n",
       "      <td>1.827000</td>\n",
       "      <td>1.824000</td>\n",
       "      <td>0.486800</td>\n",
       "      <td>0.488000</td>\n",
       "      <td>0.497300</td>\n",
       "      <td>0.487300</td>\n",
       "      <td>7.507723</td>\n",
       "      <td>1.298000</td>\n",
       "      <td>1.332000</td>\n",
       "    </tr>\n",
       "    <tr>\n",
       "      <th>50%</th>\n",
       "      <td>27.000000</td>\n",
       "      <td>120055.000000</td>\n",
       "      <td>1974.000000</td>\n",
       "      <td>1.000000</td>\n",
       "      <td>49.000000</td>\n",
       "      <td>28.000000</td>\n",
       "      <td>113.700000</td>\n",
       "      <td>-0.650000</td>\n",
       "      <td>0.000000</td>\n",
       "      <td>0.000000</td>\n",
       "      <td>...</td>\n",
       "      <td>4.468375</td>\n",
       "      <td>1.873000</td>\n",
       "      <td>1.871000</td>\n",
       "      <td>0.497800</td>\n",
       "      <td>0.497900</td>\n",
       "      <td>0.500000</td>\n",
       "      <td>0.491100</td>\n",
       "      <td>68.552815</td>\n",
       "      <td>15.504000</td>\n",
       "      <td>16.946000</td>\n",
       "    </tr>\n",
       "    <tr>\n",
       "      <th>75%</th>\n",
       "      <td>31.000000</td>\n",
       "      <td>150029.000000</td>\n",
       "      <td>2002.000000</td>\n",
       "      <td>1.000000</td>\n",
       "      <td>229.000000</td>\n",
       "      <td>72.000000</td>\n",
       "      <td>452.150000</td>\n",
       "      <td>0.000000</td>\n",
       "      <td>0.070000</td>\n",
       "      <td>0.000000</td>\n",
       "      <td>...</td>\n",
       "      <td>4.814130</td>\n",
       "      <td>1.914000</td>\n",
       "      <td>1.912000</td>\n",
       "      <td>0.504300</td>\n",
       "      <td>0.503900</td>\n",
       "      <td>0.500900</td>\n",
       "      <td>0.495800</td>\n",
       "      <td>102.654182</td>\n",
       "      <td>74.164000</td>\n",
       "      <td>80.035000</td>\n",
       "    </tr>\n",
       "    <tr>\n",
       "      <th>max</th>\n",
       "      <td>58.000000</td>\n",
       "      <td>807799.000000</td>\n",
       "      <td>2023.000000</td>\n",
       "      <td>5.000000</td>\n",
       "      <td>778.000000</td>\n",
       "      <td>165.000000</td>\n",
       "      <td>1543.000000</td>\n",
       "      <td>116.270000</td>\n",
       "      <td>18.640000</td>\n",
       "      <td>6.650000</td>\n",
       "      <td>...</td>\n",
       "      <td>10.331210</td>\n",
       "      <td>2.410000</td>\n",
       "      <td>2.372000</td>\n",
       "      <td>0.793700</td>\n",
       "      <td>0.793700</td>\n",
       "      <td>0.700200</td>\n",
       "      <td>0.500000</td>\n",
       "      <td>1250.047427</td>\n",
       "      <td>278.300000</td>\n",
       "      <td>338.514000</td>\n",
       "    </tr>\n",
       "  </tbody>\n",
       "</table>\n",
       "<p>8 rows × 44 columns</p>\n",
       "</div>"
      ],
      "text/plain": [
       "                 age         mlb_ID        year_ID       stint_ID  \\\n",
       "count  119987.000000  112987.000000  121375.000000  121375.000000   \n",
       "mean       27.787135  207916.047262    1966.710904       1.025714   \n",
       "std         4.436740  169142.978896      39.910613       0.383629   \n",
       "min        15.000000  110001.000000    1871.000000       0.000000   \n",
       "25%        25.000000  115103.000000    1935.000000       1.000000   \n",
       "50%        27.000000  120055.000000    1974.000000       1.000000   \n",
       "75%        31.000000  150029.000000    2002.000000       1.000000   \n",
       "max        58.000000  807799.000000    2023.000000       5.000000   \n",
       "\n",
       "                  PA              G           Inn       runs_bat  \\\n",
       "count  120573.000000  121375.000000  76467.000000  121375.000000   \n",
       "mean      149.459182      45.152066    313.949138      -0.791258   \n",
       "std       200.635289      47.710997    403.734140       9.153787   \n",
       "min         0.000000       0.000000      0.000000     -64.050000   \n",
       "25%         4.000000       5.000000     33.000000      -4.140000   \n",
       "50%        49.000000      28.000000    113.700000      -0.650000   \n",
       "75%       229.000000      72.000000    452.150000       0.000000   \n",
       "max       778.000000     165.000000   1543.000000     116.270000   \n",
       "\n",
       "             runs_br        runs_dp  ...     oppRpG_rep  pyth_exponent  \\\n",
       "count  121375.000000  121375.000000  ...  111892.000000  111706.000000   \n",
       "mean        0.000270      -0.000342  ...       4.527066       1.877152   \n",
       "std         1.067511       0.592303  ...       0.677578       0.075139   \n",
       "min        -8.210000      -6.200000  ...       3.189750       1.682000   \n",
       "25%        -0.170000       0.000000  ...       4.086150       1.827000   \n",
       "50%         0.000000       0.000000  ...       4.468375       1.873000   \n",
       "75%         0.070000       0.000000  ...       4.814130       1.914000   \n",
       "max        18.640000       6.650000  ...      10.331210       2.410000   \n",
       "\n",
       "       pyth_exponent_rep   waa_win_perc  waa_win_perc_off  waa_win_perc_def  \\\n",
       "count      111892.000000  111706.000000     111706.000000     111706.000000   \n",
       "mean            1.874663       0.495399          0.496085          0.499387   \n",
       "std             0.074956       0.021080          0.018711          0.009019   \n",
       "min             1.706000       0.238000          0.325200          0.273600   \n",
       "25%             1.824000       0.486800          0.488000          0.497300   \n",
       "50%             1.871000       0.497800          0.497900          0.500000   \n",
       "75%             1.912000       0.504300          0.503900          0.500900   \n",
       "max             2.372000       0.793700          0.793700          0.700200   \n",
       "\n",
       "       waa_win_perc_rep       OPS_plus         TOB_lg          TB_lg  \n",
       "count     111892.000000  101997.000000  121369.000000  121369.000000  \n",
       "mean           0.491576      53.769473      48.877443      52.426025  \n",
       "std            0.005119      85.034772      66.489481      71.173247  \n",
       "min            0.480200    -100.000000       0.000000       0.000000  \n",
       "25%            0.487300       7.507723       1.298000       1.332000  \n",
       "50%            0.491100      68.552815      15.504000      16.946000  \n",
       "75%            0.495800     102.654182      74.164000      80.035000  \n",
       "max            0.500000    1250.047427     278.300000     338.514000  \n",
       "\n",
       "[8 rows x 44 columns]"
      ]
     },
     "execution_count": 181,
     "metadata": {},
     "output_type": "execute_result"
    }
   ],
   "source": [
    "# Summary statistics for all numerical columns\n",
    "df.describe()"
   ]
  },
  {
   "cell_type": "code",
   "execution_count": 182,
   "id": "eeb4b2b6",
   "metadata": {},
   "outputs": [
    {
     "data": {
      "text/html": [
       "<div>\n",
       "<style scoped>\n",
       "    .dataframe tbody tr th:only-of-type {\n",
       "        vertical-align: middle;\n",
       "    }\n",
       "\n",
       "    .dataframe tbody tr th {\n",
       "        vertical-align: top;\n",
       "    }\n",
       "\n",
       "    .dataframe thead th {\n",
       "        text-align: right;\n",
       "    }\n",
       "</style>\n",
       "<table border=\"1\" class=\"dataframe\">\n",
       "  <thead>\n",
       "    <tr style=\"text-align: right;\">\n",
       "      <th></th>\n",
       "      <th>name_common</th>\n",
       "      <th>player_ID</th>\n",
       "      <th>team_ID</th>\n",
       "      <th>lg_ID</th>\n",
       "      <th>pitcher</th>\n",
       "    </tr>\n",
       "  </thead>\n",
       "  <tbody>\n",
       "    <tr>\n",
       "      <th>count</th>\n",
       "      <td>121375</td>\n",
       "      <td>121375</td>\n",
       "      <td>121375</td>\n",
       "      <td>120639</td>\n",
       "      <td>120232</td>\n",
       "    </tr>\n",
       "    <tr>\n",
       "      <th>unique</th>\n",
       "      <td>22049</td>\n",
       "      <td>22903</td>\n",
       "      <td>180</td>\n",
       "      <td>13</td>\n",
       "      <td>2</td>\n",
       "    </tr>\n",
       "    <tr>\n",
       "      <th>top</th>\n",
       "      <td>Bob Miller</td>\n",
       "      <td>mcguide01</td>\n",
       "      <td>STL</td>\n",
       "      <td>NL</td>\n",
       "      <td>N</td>\n",
       "    </tr>\n",
       "    <tr>\n",
       "      <th>freq</th>\n",
       "      <td>48</td>\n",
       "      <td>31</td>\n",
       "      <td>5228</td>\n",
       "      <td>57077</td>\n",
       "      <td>68357</td>\n",
       "    </tr>\n",
       "  </tbody>\n",
       "</table>\n",
       "</div>"
      ],
      "text/plain": [
       "       name_common  player_ID team_ID   lg_ID pitcher\n",
       "count       121375     121375  121375  120639  120232\n",
       "unique       22049      22903     180      13       2\n",
       "top     Bob Miller  mcguide01     STL      NL       N\n",
       "freq            48         31    5228   57077   68357"
      ]
     },
     "execution_count": 182,
     "metadata": {},
     "output_type": "execute_result"
    }
   ],
   "source": [
    "# Unique values and counts for all categorical column\n",
    "df.describe(include=['O'])"
   ]
  },
  {
   "cell_type": "code",
   "execution_count": 183,
   "id": "6c94ac14",
   "metadata": {},
   "outputs": [
    {
     "name": "stdout",
     "output_type": "stream",
     "text": [
      "Number of players: 22903\n",
      "Number of teams: 180\n",
      "Number of seasons: 153\n",
      "First Season: 1871\n",
      "Last Season: 2023\n"
     ]
    }
   ],
   "source": [
    "total_players = df['player_ID'].nunique()\n",
    "total_teams = df['team_ID'].nunique()\n",
    "total_seasons = df['year_ID'].nunique()\n",
    "first_season = df['year_ID'].min()\n",
    "last_season = df['year_ID'].max()\n",
    "\n",
    "print(f'Number of players: {total_players}')\n",
    "print(f'Number of teams: {total_teams}')\n",
    "print(f'Number of seasons: {total_seasons}')\n",
    "print(f'First Season: {first_season}')\n",
    "print(f'Last Season: {last_season}')"
   ]
  },
  {
   "attachments": {},
   "cell_type": "markdown",
   "id": "b062162b",
   "metadata": {},
   "source": [
    "### Data Cleaning"
   ]
  },
  {
   "attachments": {},
   "cell_type": "markdown",
   "id": "64a27a38",
   "metadata": {},
   "source": [
    "#### Drop mlb_ID column\n",
    "Both `mlb_ID` and `player_ID` columns are identifiers for the same player. `player_ID` is more widely used and recognized in other baseball datasets I might want to integrate in the future."
   ]
  },
  {
   "cell_type": "code",
   "execution_count": 184,
   "id": "dd8c14c9",
   "metadata": {},
   "outputs": [],
   "source": [
    "# Drop mlb_ID column\n",
    "df.drop('mlb_ID', axis=1, inplace=True)"
   ]
  },
  {
   "cell_type": "code",
   "execution_count": 199,
   "id": "f4f54840",
   "metadata": {},
   "outputs": [
    {
     "data": {
      "text/plain": [
       "name_common               0\n",
       "age                    1388\n",
       "player_ID                 0\n",
       "year_ID                   0\n",
       "team_ID                   0\n",
       "stint_ID                  0\n",
       "lg_ID                   736\n",
       "PA                      802\n",
       "G                         0\n",
       "Inn                   44908\n",
       "runs_bat                  0\n",
       "runs_br                   0\n",
       "runs_dp                   0\n",
       "runs_field                0\n",
       "runs_infield          44908\n",
       "runs_outfield         44908\n",
       "runs_catcher          44908\n",
       "runs_good_plays       91900\n",
       "runs_defense              0\n",
       "runs_position           988\n",
       "runs_position_p           1\n",
       "runs_replacement        802\n",
       "runs_above_rep          988\n",
       "runs_above_avg          988\n",
       "runs_above_avg_off      988\n",
       "runs_above_avg_def      988\n",
       "WAA                    9669\n",
       "WAA_off                9669\n",
       "WAA_def                9669\n",
       "WAR                   10812\n",
       "WAR_def                9669\n",
       "WAR_off               10812\n",
       "WAR_rep               10626\n",
       "salary                73429\n",
       "pitcher                1143\n",
       "teamRpG                9669\n",
       "oppRpG                    0\n",
       "oppRpPA_rep               0\n",
       "oppRpG_rep             9483\n",
       "pyth_exponent          9669\n",
       "pyth_exponent_rep      9483\n",
       "waa_win_perc           9669\n",
       "waa_win_perc_off       9669\n",
       "waa_win_perc_def       9669\n",
       "waa_win_perc_rep       9483\n",
       "OPS_plus              19378\n",
       "TOB_lg                    6\n",
       "TB_lg                     6\n",
       "dtype: int64"
      ]
     },
     "execution_count": 199,
     "metadata": {},
     "output_type": "execute_result"
    }
   ],
   "source": [
    "df.isnull().sum()"
   ]
  },
  {
   "cell_type": "code",
   "execution_count": 200,
   "id": "26f2c68b",
   "metadata": {},
   "outputs": [
    {
     "data": {
      "text/plain": [
       "521883"
      ]
     },
     "execution_count": 200,
     "metadata": {},
     "output_type": "execute_result"
    }
   ],
   "source": [
    "df.isnull().sum().sum()"
   ]
  },
  {
   "attachments": {},
   "cell_type": "markdown",
   "id": "2acdeae5",
   "metadata": {},
   "source": [
    "#### Selecting the Appropriate Time Frame for Analysis\n",
    "\n",
    "By the 1970s, many modern aspects of the game were in place. For instance, the designated hitter rule was established in the American League in 1973, free agency began in the mid-1970s, and by the 1980s, training, nutrition, and medical treatment for players had evolved significantly. Furthermore, the quality and completeness of data tends to be better from the 1970s onward."
   ]
  },
  {
   "cell_type": "code",
   "execution_count": 201,
   "id": "ac68418b",
   "metadata": {},
   "outputs": [],
   "source": [
    "# Start from 1970 season\n",
    "df_modern = df[df['year_ID'] >= 1970]"
   ]
  },
  {
   "cell_type": "code",
   "execution_count": 204,
   "id": "997dbb2f",
   "metadata": {},
   "outputs": [
    {
     "data": {
      "text/plain": [
       "name_common               0\n",
       "age                       0\n",
       "player_ID                 0\n",
       "year_ID                   0\n",
       "team_ID                   0\n",
       "stint_ID                  0\n",
       "lg_ID                     0\n",
       "PA                      796\n",
       "G                         0\n",
       "Inn                       0\n",
       "runs_bat                  0\n",
       "runs_br                   0\n",
       "runs_dp                   0\n",
       "runs_field                0\n",
       "runs_infield              0\n",
       "runs_outfield             0\n",
       "runs_catcher              0\n",
       "runs_good_plays       35112\n",
       "runs_defense              0\n",
       "runs_position           796\n",
       "runs_position_p           0\n",
       "runs_replacement        796\n",
       "runs_above_rep          796\n",
       "runs_above_avg          796\n",
       "runs_above_avg_off      796\n",
       "runs_above_avg_def      796\n",
       "WAA                    9477\n",
       "WAA_off                9477\n",
       "WAA_def                9477\n",
       "WAR                    9799\n",
       "WAR_def                9477\n",
       "WAR_off                9799\n",
       "WAR_rep                9799\n",
       "salary                31020\n",
       "pitcher                 322\n",
       "teamRpG                9477\n",
       "oppRpG                    0\n",
       "oppRpPA_rep               0\n",
       "oppRpG_rep             9477\n",
       "pyth_exponent          9477\n",
       "pyth_exponent_rep      9477\n",
       "waa_win_perc           9477\n",
       "waa_win_perc_off       9477\n",
       "waa_win_perc_def       9477\n",
       "waa_win_perc_rep       9477\n",
       "OPS_plus              17324\n",
       "TOB_lg                    0\n",
       "TB_lg                     0\n",
       "dtype: int64"
      ]
     },
     "execution_count": 204,
     "metadata": {},
     "output_type": "execute_result"
    }
   ],
   "source": [
    "df_modern.isnull().sum()"
   ]
  },
  {
   "cell_type": "code",
   "execution_count": 205,
   "id": "f8f6096f",
   "metadata": {},
   "outputs": [
    {
     "data": {
      "text/plain": [
       "232471"
      ]
     },
     "execution_count": 205,
     "metadata": {},
     "output_type": "execute_result"
    }
   ],
   "source": [
    "df_modern.isnull().sum().sum()"
   ]
  },
  {
   "cell_type": "code",
   "execution_count": 203,
   "id": "2b1a7d15",
   "metadata": {},
   "outputs": [
    {
     "data": {
      "text/plain": [
       "(64587, 48)"
      ]
     },
     "execution_count": 203,
     "metadata": {},
     "output_type": "execute_result"
    }
   ],
   "source": [
    "df_modern.shape"
   ]
  },
  {
   "cell_type": "code",
   "execution_count": 206,
   "id": "26f74e26",
   "metadata": {},
   "outputs": [],
   "source": [
    "# Drop Pitchers\n",
    "df_modern = df_modern[df_modern['pitcher'] != 'Y']"
   ]
  },
  {
   "cell_type": "code",
   "execution_count": 208,
   "id": "0fdd9fbd",
   "metadata": {},
   "outputs": [
    {
     "data": {
      "text/plain": [
       "name_common               0\n",
       "age                       0\n",
       "player_ID                 0\n",
       "year_ID                   0\n",
       "team_ID                   0\n",
       "stint_ID                  0\n",
       "lg_ID                     0\n",
       "PA                        0\n",
       "G                         0\n",
       "Inn                       0\n",
       "runs_bat                  0\n",
       "runs_br                   0\n",
       "runs_dp                   0\n",
       "runs_field                0\n",
       "runs_infield              0\n",
       "runs_outfield             0\n",
       "runs_catcher              0\n",
       "runs_good_plays       19535\n",
       "runs_defense              0\n",
       "runs_position             0\n",
       "runs_position_p           0\n",
       "runs_replacement          0\n",
       "runs_above_rep            0\n",
       "runs_above_avg            0\n",
       "runs_above_avg_off        0\n",
       "runs_above_avg_def        0\n",
       "WAA                       1\n",
       "WAA_off                   1\n",
       "WAA_def                   1\n",
       "WAR                     323\n",
       "WAR_def                   1\n",
       "WAR_off                 323\n",
       "WAR_rep                 323\n",
       "salary                15713\n",
       "pitcher                 322\n",
       "teamRpG                   1\n",
       "oppRpG                    0\n",
       "oppRpPA_rep               0\n",
       "oppRpG_rep                1\n",
       "pyth_exponent             1\n",
       "pyth_exponent_rep         1\n",
       "waa_win_perc              1\n",
       "waa_win_perc_off          1\n",
       "waa_win_perc_def          1\n",
       "waa_win_perc_rep          1\n",
       "OPS_plus                159\n",
       "TOB_lg                    0\n",
       "TB_lg                     0\n",
       "dtype: int64"
      ]
     },
     "execution_count": 208,
     "metadata": {},
     "output_type": "execute_result"
    }
   ],
   "source": [
    "df_modern.isnull().sum()"
   ]
  },
  {
   "cell_type": "code",
   "execution_count": 209,
   "id": "f135b993",
   "metadata": {},
   "outputs": [
    {
     "data": {
      "text/plain": [
       "36710"
      ]
     },
     "execution_count": 209,
     "metadata": {},
     "output_type": "execute_result"
    }
   ],
   "source": [
    "df_modern.isnull().sum().sum()"
   ]
  },
  {
   "cell_type": "code",
   "execution_count": 211,
   "id": "40e00a68",
   "metadata": {},
   "outputs": [
    {
     "data": {
      "text/plain": [
       "(33308, 48)"
      ]
     },
     "execution_count": 211,
     "metadata": {},
     "output_type": "execute_result"
    }
   ],
   "source": [
    "# Drop 2023 season\n",
    "df_modern = df_modern[df_modern['year_ID'] != 2023]\n",
    "df_modern.shape"
   ]
  },
  {
   "cell_type": "code",
   "execution_count": 213,
   "id": "e4317c47",
   "metadata": {},
   "outputs": [
    {
     "data": {
      "text/plain": [
       "name_common               0\n",
       "age                       0\n",
       "player_ID                 0\n",
       "year_ID                   0\n",
       "team_ID                   0\n",
       "stint_ID                  0\n",
       "lg_ID                     0\n",
       "PA                        0\n",
       "G                         0\n",
       "Inn                       0\n",
       "runs_bat                  0\n",
       "runs_br                   0\n",
       "runs_dp                   0\n",
       "runs_field                0\n",
       "runs_infield              0\n",
       "runs_outfield             0\n",
       "runs_catcher              0\n",
       "runs_good_plays       19535\n",
       "runs_defense              0\n",
       "runs_position             0\n",
       "runs_position_p           0\n",
       "runs_replacement          0\n",
       "runs_above_rep            0\n",
       "runs_above_avg            0\n",
       "runs_above_avg_off        0\n",
       "runs_above_avg_def        0\n",
       "WAA                       1\n",
       "WAA_off                   1\n",
       "WAA_def                   1\n",
       "WAR                     320\n",
       "WAR_def                   1\n",
       "WAR_off                 320\n",
       "WAR_rep                 320\n",
       "salary                15558\n",
       "pitcher                 319\n",
       "teamRpG                   1\n",
       "oppRpG                    0\n",
       "oppRpPA_rep               0\n",
       "oppRpG_rep                1\n",
       "pyth_exponent             1\n",
       "pyth_exponent_rep         1\n",
       "waa_win_perc              1\n",
       "waa_win_perc_off          1\n",
       "waa_win_perc_def          1\n",
       "waa_win_perc_rep          1\n",
       "OPS_plus                154\n",
       "TOB_lg                    0\n",
       "TB_lg                     0\n",
       "dtype: int64"
      ]
     },
     "execution_count": 213,
     "metadata": {},
     "output_type": "execute_result"
    }
   ],
   "source": [
    "df_modern.isnull().sum()"
   ]
  },
  {
   "cell_type": "code",
   "execution_count": 215,
   "id": "32d0f351",
   "metadata": {},
   "outputs": [
    {
     "data": {
      "text/plain": [
       "36538"
      ]
     },
     "execution_count": 215,
     "metadata": {},
     "output_type": "execute_result"
    }
   ],
   "source": [
    "df_modern.isnull().sum().sum()"
   ]
  },
  {
   "cell_type": "code",
   "execution_count": 217,
   "id": "397dc927",
   "metadata": {},
   "outputs": [],
   "source": [
    "# Drop Players with G as zero\n",
    "df_modern = df_modern[df_modern['G'] != 0]"
   ]
  },
  {
   "cell_type": "code",
   "execution_count": 219,
   "id": "d7fc403b",
   "metadata": {},
   "outputs": [
    {
     "data": {
      "text/plain": [
       "name_common               0\n",
       "age                       0\n",
       "player_ID                 0\n",
       "year_ID                   0\n",
       "team_ID                   0\n",
       "stint_ID                  0\n",
       "lg_ID                     0\n",
       "PA                        0\n",
       "G                         0\n",
       "Inn                       0\n",
       "runs_bat                  0\n",
       "runs_br                   0\n",
       "runs_dp                   0\n",
       "runs_field                0\n",
       "runs_infield              0\n",
       "runs_outfield             0\n",
       "runs_catcher              0\n",
       "runs_good_plays       19535\n",
       "runs_defense              0\n",
       "runs_position             0\n",
       "runs_position_p           0\n",
       "runs_replacement          0\n",
       "runs_above_rep            0\n",
       "runs_above_avg            0\n",
       "runs_above_avg_off        0\n",
       "runs_above_avg_def        0\n",
       "WAA                       0\n",
       "WAA_off                   0\n",
       "WAA_def                   0\n",
       "WAR                     319\n",
       "WAR_def                   0\n",
       "WAR_off                 319\n",
       "WAR_rep                 319\n",
       "salary                15557\n",
       "pitcher                 319\n",
       "teamRpG                   0\n",
       "oppRpG                    0\n",
       "oppRpPA_rep               0\n",
       "oppRpG_rep                0\n",
       "pyth_exponent             0\n",
       "pyth_exponent_rep         0\n",
       "waa_win_perc              0\n",
       "waa_win_perc_off          0\n",
       "waa_win_perc_def          0\n",
       "waa_win_perc_rep          0\n",
       "OPS_plus                153\n",
       "TOB_lg                    0\n",
       "TB_lg                     0\n",
       "dtype: int64"
      ]
     },
     "execution_count": 219,
     "metadata": {},
     "output_type": "execute_result"
    }
   ],
   "source": [
    "df_modern.isnull().sum()"
   ]
  },
  {
   "cell_type": "code",
   "execution_count": 220,
   "id": "337e8067",
   "metadata": {},
   "outputs": [
    {
     "data": {
      "text/plain": [
       "36521"
      ]
     },
     "execution_count": 220,
     "metadata": {},
     "output_type": "execute_result"
    }
   ],
   "source": [
    "df_modern.isnull().sum().sum()"
   ]
  },
  {
   "cell_type": "code",
   "execution_count": 222,
   "id": "3d1c91a8",
   "metadata": {},
   "outputs": [],
   "source": [
    "# Drop Players with PA as zero\n",
    "df_modern = df_modern[df_modern['PA'] != 0]"
   ]
  },
  {
   "cell_type": "code",
   "execution_count": 224,
   "id": "6916c926",
   "metadata": {},
   "outputs": [
    {
     "data": {
      "text/plain": [
       "name_common               0\n",
       "age                       0\n",
       "player_ID                 0\n",
       "year_ID                   0\n",
       "team_ID                   0\n",
       "stint_ID                  0\n",
       "lg_ID                     0\n",
       "PA                        0\n",
       "G                         0\n",
       "Inn                       0\n",
       "runs_bat                  0\n",
       "runs_br                   0\n",
       "runs_dp                   0\n",
       "runs_field                0\n",
       "runs_infield              0\n",
       "runs_outfield             0\n",
       "runs_catcher              0\n",
       "runs_good_plays       19446\n",
       "runs_defense              0\n",
       "runs_position             0\n",
       "runs_position_p           0\n",
       "runs_replacement          0\n",
       "runs_above_rep            0\n",
       "runs_above_avg            0\n",
       "runs_above_avg_off        0\n",
       "runs_above_avg_def        0\n",
       "WAA                       0\n",
       "WAA_off                   0\n",
       "WAA_def                   0\n",
       "WAR                     290\n",
       "WAR_def                   0\n",
       "WAR_off                 290\n",
       "WAR_rep                 290\n",
       "salary                15446\n",
       "pitcher                 290\n",
       "teamRpG                   0\n",
       "oppRpG                    0\n",
       "oppRpPA_rep               0\n",
       "oppRpG_rep                0\n",
       "pyth_exponent             0\n",
       "pyth_exponent_rep         0\n",
       "waa_win_perc              0\n",
       "waa_win_perc_off          0\n",
       "waa_win_perc_def          0\n",
       "waa_win_perc_rep          0\n",
       "OPS_plus                 18\n",
       "TOB_lg                    0\n",
       "TB_lg                     0\n",
       "dtype: int64"
      ]
     },
     "execution_count": 224,
     "metadata": {},
     "output_type": "execute_result"
    }
   ],
   "source": [
    "df_modern.isnull().sum()"
   ]
  },
  {
   "cell_type": "code",
   "execution_count": 225,
   "id": "98fab75f",
   "metadata": {},
   "outputs": [
    {
     "data": {
      "text/plain": [
       "36070"
      ]
     },
     "execution_count": 225,
     "metadata": {},
     "output_type": "execute_result"
    }
   ],
   "source": [
    "df_modern.isnull().sum().sum()"
   ]
  },
  {
   "cell_type": "code",
   "execution_count": 194,
   "id": "a80a35f1",
   "metadata": {},
   "outputs": [
    {
     "data": {
      "text/plain": [
       "count    1154.000000\n",
       "mean        3.758232\n",
       "std         5.866951\n",
       "min         1.000000\n",
       "25%         1.000000\n",
       "50%         2.000000\n",
       "75%         4.000000\n",
       "max        76.000000\n",
       "Name: PA, dtype: float64"
      ]
     },
     "execution_count": 194,
     "metadata": {},
     "output_type": "execute_result"
    }
   ],
   "source": [
    "# Show player with WAR as null\n",
    "df_modern[df_modern['WAR'].isnull()]['PA'].describe()"
   ]
  },
  {
   "cell_type": "code",
   "execution_count": 226,
   "id": "adb71561",
   "metadata": {},
   "outputs": [
    {
     "data": {
      "text/plain": [
       "16344"
      ]
     },
     "execution_count": 226,
     "metadata": {},
     "output_type": "execute_result"
    }
   ],
   "source": [
    "# Show player with less than 100 PA\n",
    "df_modern[df_modern['PA'] < 100].isnull().sum().sum()"
   ]
  },
  {
   "cell_type": "code",
   "execution_count": 227,
   "id": "bd67a8ce",
   "metadata": {},
   "outputs": [],
   "source": [
    "# Drop players with less than 100 PA\n",
    "df_modern = df_modern[df_modern['PA'] >= 100]"
   ]
  },
  {
   "cell_type": "code",
   "execution_count": 230,
   "id": "7b71e79f",
   "metadata": {},
   "outputs": [
    {
     "data": {
      "text/plain": [
       "(21842, 48)"
      ]
     },
     "execution_count": 230,
     "metadata": {},
     "output_type": "execute_result"
    }
   ],
   "source": [
    "df_modern.shape"
   ]
  },
  {
   "cell_type": "code",
   "execution_count": 228,
   "id": "e8f14c9d",
   "metadata": {},
   "outputs": [
    {
     "data": {
      "text/plain": [
       "name_common               0\n",
       "age                       0\n",
       "player_ID                 0\n",
       "year_ID                   0\n",
       "team_ID                   0\n",
       "stint_ID                  0\n",
       "lg_ID                     0\n",
       "PA                        0\n",
       "G                         0\n",
       "Inn                       0\n",
       "runs_bat                  0\n",
       "runs_br                   0\n",
       "runs_dp                   0\n",
       "runs_field                0\n",
       "runs_infield              0\n",
       "runs_outfield             0\n",
       "runs_catcher              0\n",
       "runs_good_plays       12815\n",
       "runs_defense              0\n",
       "runs_position             0\n",
       "runs_position_p           0\n",
       "runs_replacement          0\n",
       "runs_above_rep            0\n",
       "runs_above_avg            0\n",
       "runs_above_avg_off        0\n",
       "runs_above_avg_def        0\n",
       "WAA                       0\n",
       "WAA_off                   0\n",
       "WAA_def                   0\n",
       "WAR                       0\n",
       "WAR_def                   0\n",
       "WAR_off                   0\n",
       "WAR_rep                   0\n",
       "salary                 6911\n",
       "pitcher                   0\n",
       "teamRpG                   0\n",
       "oppRpG                    0\n",
       "oppRpPA_rep               0\n",
       "oppRpG_rep                0\n",
       "pyth_exponent             0\n",
       "pyth_exponent_rep         0\n",
       "waa_win_perc              0\n",
       "waa_win_perc_off          0\n",
       "waa_win_perc_def          0\n",
       "waa_win_perc_rep          0\n",
       "OPS_plus                  0\n",
       "TOB_lg                    0\n",
       "TB_lg                     0\n",
       "dtype: int64"
      ]
     },
     "execution_count": 228,
     "metadata": {},
     "output_type": "execute_result"
    }
   ],
   "source": [
    "df_modern.isnull().sum()"
   ]
  },
  {
   "cell_type": "code",
   "execution_count": 229,
   "id": "45437fd4",
   "metadata": {},
   "outputs": [
    {
     "data": {
      "text/plain": [
       "19726"
      ]
     },
     "execution_count": 229,
     "metadata": {},
     "output_type": "execute_result"
    }
   ],
   "source": [
    "df_modern.isnull().sum().sum()"
   ]
  }
 ],
 "metadata": {
  "kernelspec": {
   "display_name": "Python 3 (ipykernel)",
   "language": "python",
   "name": "python3"
  },
  "language_info": {
   "codemirror_mode": {
    "name": "ipython",
    "version": 3
   },
   "file_extension": ".py",
   "mimetype": "text/x-python",
   "name": "python",
   "nbconvert_exporter": "python",
   "pygments_lexer": "ipython3",
   "version": "3.10.9"
  }
 },
 "nbformat": 4,
 "nbformat_minor": 5
}
