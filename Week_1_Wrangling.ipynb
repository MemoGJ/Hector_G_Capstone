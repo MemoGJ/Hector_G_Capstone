{
 "cells": [
  {
   "attachments": {},
   "cell_type": "markdown",
   "id": "b26946cf",
   "metadata": {},
   "source": [
    "# Data Wrangling\n",
    " Data cleaning and preprocessing. Transforming raw data into a format that can be easily analyzed. \n",
    "## Contents:\n",
    "- Data exploration for every dataset\n",
    "    - Shape of Datasets and first look at rows\n",
    "    - Description for every dataset\n",
    "- Data cleaning\n",
    "- Data Joining/Merging"
   ]
  },
  {
   "cell_type": "code",
   "execution_count": 3,
   "id": "aa218c2f",
   "metadata": {},
   "outputs": [],
   "source": [
    "# Import necessary libraries\n",
    "import pandas as pd\n",
    "import numpy as np\n",
    "import statsmodels.api as sm\n",
    "import matplotlib.pyplot as plt\n",
    "import seaborn as sns"
   ]
  },
  {
   "cell_type": "code",
   "execution_count": 4,
   "id": "06d8dae2",
   "metadata": {},
   "outputs": [],
   "source": [
    "# Load datasets\n",
    "raw_war = pd.read_csv('Raw datasets/war_daily_bat.csv')\n",
    "raw_teams = pd.read_csv('Raw datasets/Teams.csv')\n",
    "raw_batting = pd.read_csv('Raw datasets/Batting.csv')\n",
    "raw_fielding = pd.read_csv('Raw datasets/Fielding.csv')\n",
    "raw_people = pd.read_csv('Raw datasets/People.csv')\n",
    "raw_salaries = pd.read_csv('Raw datasets/Salaries.csv')"
   ]
  },
  {
   "attachments": {},
   "cell_type": "markdown",
   "id": "8f5646c1",
   "metadata": {},
   "source": [
    "### Dataset exploration\n",
    "#### Shape of Datasets and first look at rows"
   ]
  },
  {
   "cell_type": "code",
   "execution_count": 5,
   "id": "6333cf2c",
   "metadata": {},
   "outputs": [
    {
     "name": "stdout",
     "output_type": "stream",
     "text": [
      "\n",
      "raw_war:\n",
      "Shape: (121375, 49)\n",
      "     name_common   age    mlb_ID  player_ID  year_ID team_ID  stint_ID lg_ID  \\\n",
      "0  David Aardsma  22.0  430911.0  aardsda01     2004     SFG         1    NL   \n",
      "1  David Aardsma  24.0  430911.0  aardsda01     2006     CHC         1    NL   \n",
      "2  David Aardsma  25.0  430911.0  aardsda01     2007     CHW         1    AL   \n",
      "3  David Aardsma  26.0  430911.0  aardsda01     2008     BOS         1    AL   \n",
      "4  David Aardsma  27.0  430911.0  aardsda01     2009     SEA         1    AL   \n",
      "\n",
      "    PA   G  ...  oppRpG_rep  pyth_exponent  pyth_exponent_rep  waa_win_perc  \\\n",
      "0  0.0  11  ...     4.67092          1.890              1.890         0.500   \n",
      "1  3.0  43  ...     4.86457          1.912              1.913         0.499   \n",
      "2  0.0   2  ...     4.85895          1.912              1.912         0.500   \n",
      "3  1.0   5  ...     4.69650          1.893              1.894         0.497   \n",
      "4  0.0   3  ...     4.79788          1.905              1.905         0.500   \n",
      "\n",
      "   waa_win_perc_off  waa_win_perc_def  waa_win_perc_rep  OPS_plus  TOB_lg  \\\n",
      "0             0.500               0.5            0.5000       NaN   0.000   \n",
      "1             0.499               0.5            0.4998    -100.0   0.694   \n",
      "2             0.500               0.5            0.5000       NaN   0.000   \n",
      "3             0.497               0.5            0.4992    -100.0   0.345   \n",
      "4             0.500               0.5            0.5000       NaN   0.000   \n",
      "\n",
      "   TB_lg  \n",
      "0  0.000  \n",
      "1  0.896  \n",
      "2  0.000  \n",
      "3  0.434  \n",
      "4  0.000  \n",
      "\n",
      "[5 rows x 49 columns]\n",
      "\n",
      "raw_teams:\n",
      "Shape: (3015, 48)\n",
      "   yearID lgID teamID franchID divID  Rank   G  Ghome   W   L  ...  DP     FP  \\\n",
      "0    1871  NaN    BS1      BNA   NaN     3  31    NaN  20  10  ...  24  0.834   \n",
      "1    1871  NaN    CH1      CNA   NaN     2  28    NaN  19   9  ...  16  0.829   \n",
      "2    1871  NaN    CL1      CFC   NaN     8  29    NaN  10  19  ...  15  0.818   \n",
      "3    1871  NaN    FW1      KEK   NaN     7  19    NaN   7  12  ...   8  0.803   \n",
      "4    1871  NaN    NY2      NNA   NaN     5  33    NaN  16  17  ...  14  0.840   \n",
      "\n",
      "                      name                          park  attendance  BPF  \\\n",
      "0     Boston Red Stockings           South End Grounds I         NaN  103   \n",
      "1  Chicago White Stockings       Union Base-Ball Grounds         NaN  104   \n",
      "2   Cleveland Forest Citys  National Association Grounds         NaN   96   \n",
      "3     Fort Wayne Kekiongas                Hamilton Field         NaN  101   \n",
      "4         New York Mutuals      Union Grounds (Brooklyn)         NaN   90   \n",
      "\n",
      "   PPF  teamIDBR  teamIDlahman45  teamIDretro  \n",
      "0   98       BOS             BS1          BS1  \n",
      "1  102       CHI             CH1          CH1  \n",
      "2  100       CLE             CL1          CL1  \n",
      "3  107       KEK             FW1          FW1  \n",
      "4   88       NYU             NY2          NY2  \n",
      "\n",
      "[5 rows x 48 columns]\n",
      "\n",
      "raw_batting:\n",
      "Shape: (112184, 22)\n",
      "    playerID  yearID  stint teamID lgID   G   AB   R   H  2B  ...   RBI   SB  \\\n",
      "0  abercda01    1871      1    TRO  NaN   1    4   0   0   0  ...   0.0  0.0   \n",
      "1   addybo01    1871      1    RC1  NaN  25  118  30  32   6  ...  13.0  8.0   \n",
      "2  allisar01    1871      1    CL1  NaN  29  137  28  40   4  ...  19.0  3.0   \n",
      "3  allisdo01    1871      1    WS3  NaN  27  133  28  44  10  ...  27.0  1.0   \n",
      "4  ansonca01    1871      1    RC1  NaN  25  120  29  39  11  ...  16.0  6.0   \n",
      "\n",
      "    CS  BB   SO  IBB  HBP  SH  SF  GIDP  \n",
      "0  0.0   0  0.0  NaN  NaN NaN NaN   0.0  \n",
      "1  1.0   4  0.0  NaN  NaN NaN NaN   0.0  \n",
      "2  1.0   2  5.0  NaN  NaN NaN NaN   1.0  \n",
      "3  1.0   0  2.0  NaN  NaN NaN NaN   0.0  \n",
      "4  2.0   2  1.0  NaN  NaN NaN NaN   0.0  \n",
      "\n",
      "[5 rows x 22 columns]\n",
      "\n",
      "raw_fielding:\n",
      "Shape: (149365, 18)\n",
      "    playerID  yearID  stint teamID lgID POS   G    GS  InnOuts  PO   A     E  \\\n",
      "0  abercda01    1871      1    TRO  NaN  SS   1   1.0     24.0   1   3   2.0   \n",
      "1   addybo01    1871      1    RC1  NaN  2B  22  22.0    606.0  67  72  42.0   \n",
      "2   addybo01    1871      1    RC1  NaN  SS   3   3.0     96.0   8  14   7.0   \n",
      "3  allisar01    1871      1    CL1  NaN  2B   2   0.0     18.0   1   4   0.0   \n",
      "4  allisar01    1871      1    CL1  NaN  OF  29  29.0    729.0  51   3   7.0   \n",
      "\n",
      "   DP  PB  WP  SB  CS  ZR  \n",
      "0   0 NaN NaN NaN NaN NaN  \n",
      "1   5 NaN NaN NaN NaN NaN  \n",
      "2   0 NaN NaN NaN NaN NaN  \n",
      "3   0 NaN NaN NaN NaN NaN  \n",
      "4   1 NaN NaN NaN NaN NaN  \n",
      "\n",
      "raw_people:\n",
      "Shape: (20811, 24)\n",
      "    playerID  birthYear  birthMonth  birthDay birthCountry birthState  \\\n",
      "0  aardsda01     1981.0        12.0      27.0          USA         CO   \n",
      "1  aaronha01     1934.0         2.0       5.0          USA         AL   \n",
      "2  aaronto01     1939.0         8.0       5.0          USA         AL   \n",
      "3   aasedo01     1954.0         9.0       8.0          USA         CA   \n",
      "4   abadan01     1972.0         8.0      25.0          USA         FL   \n",
      "\n",
      "    birthCity  deathYear  deathMonth  deathDay  ... nameLast       nameGiven  \\\n",
      "0      Denver        NaN         NaN       NaN  ...  Aardsma     David Allan   \n",
      "1      Mobile     2021.0         1.0      22.0  ...    Aaron     Henry Louis   \n",
      "2      Mobile     1984.0         8.0      16.0  ...    Aaron      Tommie Lee   \n",
      "3      Orange        NaN         NaN       NaN  ...     Aase  Donald William   \n",
      "4  Palm Beach        NaN         NaN       NaN  ...     Abad   Fausto Andres   \n",
      "\n",
      "  weight height bats throws       debut   finalGame   retroID    bbrefID  \n",
      "0  215.0   75.0    R      R  2004-04-06  2015-08-23  aardd001  aardsda01  \n",
      "1  180.0   72.0    R      R  1954-04-13  1976-10-03  aaroh101  aaronha01  \n",
      "2  190.0   75.0    R      R  1962-04-10  1971-09-26  aarot101  aaronto01  \n",
      "3  190.0   75.0    R      R  1977-07-26  1990-10-03  aased001   aasedo01  \n",
      "4  184.0   73.0    L      L  2001-09-10  2006-04-13  abada001   abadan01  \n",
      "\n",
      "[5 rows x 24 columns]\n",
      "\n",
      "raw_salaries:\n",
      "Shape: (26428, 5)\n",
      "   yearID teamID lgID   playerID  salary\n",
      "0    1985    ATL   NL  barkele01  870000\n",
      "1    1985    ATL   NL  bedrost01  550000\n",
      "2    1985    ATL   NL  benedbr01  545000\n",
      "3    1985    ATL   NL   campri01  633333\n",
      "4    1985    ATL   NL  ceronri01  625000\n"
     ]
    }
   ],
   "source": [
    "# Check the shape of the datasets and view the first few rows\n",
    "datasets = [raw_war, raw_teams, raw_batting, raw_fielding, raw_people, raw_salaries]\n",
    "dataset_names = ['raw_war', 'raw_teams', 'raw_batting', 'raw_fielding', 'raw_people', 'raw_salaries']\n",
    "\n",
    "for dataset, name in zip(datasets, dataset_names):\n",
    "    print(f'\\n{name}:')\n",
    "    print(f'Shape: {dataset.shape}')\n",
    "    print(dataset.head())"
   ]
  },
  {
   "attachments": {},
   "cell_type": "markdown",
   "id": "d0f6792b",
   "metadata": {},
   "source": [
    "#### Datasets description\n",
    "- **raw_war:** Comprehensive collection of baseball statistics, with a focus on player performance metrics.\n",
    "- **raw_teams:** Comprehensive collection of team-level baseball statistics.\n",
    "- **raw_batting:** Player-level batting statistics for each season.\n",
    "- **raw_fielding:** Player-level fielding statistics for each season.\n",
    "- **raw_people:** Contains personal and biographical information about baseball players.   \n",
    "- **raw_salaries:** Player-level salary data for each season.\n"
   ]
  },
  {
   "attachments": {},
   "cell_type": "markdown",
   "id": "3f97e303",
   "metadata": {},
   "source": [
    "#### Datasets Dictionaries\n",
    "\n",
    "##### raw_war\n",
    "| Column Name | Description |  \n",
    "| --- | --- |\n",
    "| name_common | Player name |\n",
    "| age | Player age |\n",
    "| mlb_ID | MLB ID code |\n",
    "| player_ID | Player ID code |\n",
    "| year_ID | Year |\n",
    "| team_ID | Team |\n",
    "| stint_ID | Player's stint (order of appearances within a season) |\n",
    "| lg_ID | League |\n",
    "| PA | Plate appearances when batting |\n",
    "| G | Games |\n",
    "| Inn | Innings played in the field |\n",
    "| runs_bat | Runs above average |\n",
    "| runs_br | Runs from baserunning |\n",
    "| runs_dp | Runs from avoiding double plays |\n",
    "| runs_field | Runs from fielding |\n",
    "| runs_infield | Runs from infield defense |\n",
    "| runs_outfield | Runs from outfield defense |\n",
    "| runs_catcher | Runs from catcher defense |\n",
    "| runs_good_plays | Runs from good fielding plays |\n",
    "| runs_defense | Runs from all defensive plays |\n",
    "| runs_position | Runs from positional scarcity |\n",
    "| runs_position_p | Runs from positional scarcity, pitcher |\n",
    "| runs_replacement | Runs from replacement level |\n",
    "| runs_above_rep | Runs above replacement level |\n",
    "| runs_above_avg | Runs above average |\n",
    "| runs_above_avg_off | Runs above average, offense |\n",
    "| runs_above_avg_def | Runs above average, defense |\n",
    "| WAA | Wins above average |\n",
    "| WAA_off | Wins above average, offense |\n",
    "| WAA_def | Wins above average, defense |\n",
    "| WAR | Wins above replacement |\n",
    "| WAR_def | Wins above replacement, defense |\n",
    "| WAR_off | Wins above replacement, offense |\n",
    "| WAR_rep | Wins above replacement, replacement level |\n",
    "| salary | Salary |\n",
    "| pitcher | Pitcher indicator |\n",
    "| teamRpG | Team runs per game |\n",
    "| oppRpG | Opponent runs per game |\n",
    "| oppRpPA_rep | Opponent runs per plate appearance, replacement level |\n",
    "| oppRpG_rep | Opponent runs per game, replacement level |\n",
    "| pyth_exponent | Pythagorean win percentage exponent |\n",
    "| pyth_exponent_rep | Pythagorean win percentage exponent, replacement level |\n",
    "| waa_win_perc | Win percentage, based on WAA |\n",
    "| waa_win_perc_off | Win percentage, based on WAA, offense |\n",
    "| waa_win_perc_def | Win percentage, based on WAA, defense |\n",
    "| waa_win_perc_rep | Win percentage, based on WAA, replacement level |\n",
    "| OPS_plus | OPS+, relative to league |\n",
    "| TOB_lg | Times on base, relative to league |\n",
    "| TB_lg | Total bases, relative to league |\n",
    "\n",
    "##### raw_teams\n",
    "| Column Name | Description |\n",
    "| --- | --- |\n",
    "| yearID | Year |\n",
    "| lgID | League |\n",
    "| teamID | Team |\n",
    "| franchID | Franchise (links to TeamsFranchise table) |\n",
    "| divID | Team's division |\n",
    "| Rank | Position in final standings |\n",
    "| G | Games played |\n",
    "| Ghome | Games played at home |\n",
    "| W | Wins |\n",
    "| L | Losses |\n",
    "| DivWin | Division Winner (Y or N) |\n",
    "| WCWin | Wild Card Winner (Y or N) |\n",
    "| LgWin | League Champion(Y or N) |\n",
    "| WSWin | World Series Winner (Y or N) |\n",
    "| R | Runs scored |\n",
    "| AB | At bats |\n",
    "| H | Hits by batters |\n",
    "| 2B | Doubles |\n",
    "| 3B | Triples |\n",
    "| HR | Homeruns by batters |\n",
    "| BB | Walks by batters |\n",
    "| SO | Strikeouts by batters |\n",
    "| SB | Stolen bases |\n",
    "| CS | Caught stealing |\n",
    "| HBP | Batters hit by pitch |\n",
    "| SF | Sacrifice flies |\n",
    "| RA | Opponents runs scored |\n",
    "| ER | Earned runs allowed |\n",
    "| ERA | Earned run average |\n",
    "| CG | Complete games |\n",
    "| SHO | Shutouts |\n",
    "| SV | Saves |\n",
    "| IPOuts | Outs Pitched (innings pitched x 3) |\n",
    "| HA | Hits allowed |\n",
    "| HRA | Homeruns allowed |\n",
    "| BBA | Walks allowed |\n",
    "| SOA | Strikeouts by pitchers |\n",
    "| E | Errors |\n",
    "| DP | Double Plays |\n",
    "| FP | Fielding percentage |\n",
    "| name | Team's full name |\n",
    "| park | Name of team's home ballpark |\n",
    "| attendance | Home attendance total |\n",
    "| BPF | Three-year park factor for batters |\n",
    "| PPF | Three-year park factor for pitchers |\n",
    "| teamIDBR | Team ID used by Baseball Reference website |\n",
    "| teamIDlahman45 | Team ID used in Lahman database version 4.5 |\n",
    "| teamIDretro | Team ID used by Retrosheet |\n",
    "\n",
    "\n",
    "\n",
    "##### raw_batting\n",
    "| Column Name | Description |\n",
    "| --- | --- |\n",
    "| playerID | Player ID code |\n",
    "| yearID | Year |\n",
    "| stint | player's stint (order of appearances within a season) |\n",
    "| teamID | Team |\n",
    "| lgID | League |\n",
    "| G | Games |\n",
    "| AB | At Bats |\n",
    "| R | Runs |\n",
    "| H | Hits |\n",
    "| 2B | Doubles |\n",
    "| 3B | Triples |\n",
    "| HR | Homeruns |\n",
    "| RBI | Runs Batted In |\n",
    "| SB | Stolen Bases |\n",
    "| CS | Caught Stealing |\n",
    "| BB | Base on Balls |\n",
    "| SO | Strikeouts |\n",
    "| IBB | Intentional walks |\n",
    "| HBP | Hit by pitch |\n",
    "| SH | Sacrifice hits |\n",
    "| SF | Sacrifice flies |\n",
    "| GIDP | Grounded into double plays |\n",
    "| G_old | Old version of games (deprecated) |\n",
    "| PA | Plate appearances |\n",
    "| InnOuts | Time played in the field expressed as outs |\n",
    "| PO | Putouts |\n",
    "| A | Assists |\n",
    "| E | Errors |\n",
    "| DP | Double Plays |\n",
    "| PB | Passed Balls (by catchers) |\n",
    "| WP | Wild Pitches (by catchers) |\n",
    "| SB | Stolen bases allowed (by catchers) |\n",
    "| CS | Caught Stealing (by catchers) |\n",
    "| ZR | Zone Rating |\n",
    "\n",
    "\n",
    "##### raw_fielding\n",
    "| Column Name | Description |\n",
    "| --- | --- |\n",
    "| playerID | Player ID code |\n",
    "| yearID | Year |\n",
    "| stint | player's stint (order of appearances within a season) |\n",
    "| teamID | Team |\n",
    "| lgID | League |\n",
    "| POS | Position |\n",
    "| G | Games |\n",
    "| GS | Games Started |\n",
    "| InnOuts | Time played in the field expressed as outs |\n",
    "| PO | Putouts |\n",
    "| A | Assists |\n",
    "| E | Errors |\n",
    "| DP | Double Plays |\n",
    "| PB | Passed Balls (by catchers) |\n",
    "| WP | Wild Pitches (by catchers) |\n",
    "| SB | Stolen bases allowed (by catchers) |\n",
    "| CS | Caught Stealing (by catchers) |\n",
    "| ZR | Zone Rating |\n",
    "\n",
    "##### raw_people\n",
    "| Column Name | Description |\n",
    "| --- | --- |\n",
    "| playerID | Player ID code |\n",
    "| birthYear | Year player was born |\n",
    "| birthMonth | Month player was born |\n",
    "| birthDay | Day player was born |\n",
    "| birthCountry | Country where player was born |\n",
    "| birthState | State where player was born |\n",
    "| birthCity | City where player was born |\n",
    "| deathYear | Year player died |\n",
    "| deathMonth | Month player died |\n",
    "| deathDay | Day player died |\n",
    "| deathCountry | Country where player died |\n",
    "| deathState | State where player died |\n",
    "| deathCity | City where player died |\n",
    "| nameFirst | Player's first name |\n",
    "| nameLast | Player's last name |\n",
    "| nameGiven | Player's given name (typically first and middle) |\n",
    "| weight | Player's weight in pounds |\n",
    "| height | Player's height in inches |\n",
    "| bats | Player's batting hand (left, right, or both) |\n",
    "| throws | Player's throwing hand (left or right) |\n",
    "| debut | Date that player made first major league appearance |\n",
    "| finalGame | Date that player made first major league appearance (blank if still active) |\n",
    "| retroID | ID used by retrosheet |\n",
    "| bbrefID | ID used by Baseball Reference website |\n",
    "\n",
    "##### raw_salaries\n",
    "| Column Name | Description |\n",
    "| --- | --- |\n",
    "| yearID | Year |\n",
    "| teamID | Team |\n",
    "| lgID | League |\n",
    "| playerID | Player ID code |\n",
    "| salary | Salary |\n"
   ]
  },
  {
   "cell_type": "code",
   "execution_count": 183,
   "id": "6c94ac14",
   "metadata": {},
   "outputs": [
    {
     "name": "stdout",
     "output_type": "stream",
     "text": [
      "Number of players: 22903\n",
      "Number of teams: 180\n",
      "Number of seasons: 153\n",
      "First Season: 1871\n",
      "Last Season: 2023\n"
     ]
    }
   ],
   "source": [
    "total_players = df['player_ID'].nunique()\n",
    "total_teams = df['team_ID'].nunique()\n",
    "total_seasons = df['year_ID'].nunique()\n",
    "first_season = df['year_ID'].min()\n",
    "last_season = df['year_ID'].max()\n",
    "\n",
    "print(f'Number of players: {total_players}')\n",
    "print(f'Number of teams: {total_teams}')\n",
    "print(f'Number of seasons: {total_seasons}')\n",
    "print(f'First Season: {first_season}')\n",
    "print(f'Last Season: {last_season}')"
   ]
  },
  {
   "attachments": {},
   "cell_type": "markdown",
   "id": "b062162b",
   "metadata": {},
   "source": [
    "### Data Cleaning"
   ]
  },
  {
   "attachments": {},
   "cell_type": "markdown",
   "id": "64a27a38",
   "metadata": {},
   "source": [
    "#### Drop mlb_ID column\n",
    "Both `mlb_ID` and `player_ID` columns are identifiers for the same player. `player_ID` is more widely used and recognized in other baseball datasets I might want to integrate in the future."
   ]
  },
  {
   "cell_type": "code",
   "execution_count": 184,
   "id": "dd8c14c9",
   "metadata": {},
   "outputs": [],
   "source": [
    "# Drop mlb_ID column\n",
    "df.drop('mlb_ID', axis=1, inplace=True)"
   ]
  },
  {
   "cell_type": "code",
   "execution_count": 199,
   "id": "f4f54840",
   "metadata": {},
   "outputs": [
    {
     "data": {
      "text/plain": [
       "name_common               0\n",
       "age                    1388\n",
       "player_ID                 0\n",
       "year_ID                   0\n",
       "team_ID                   0\n",
       "stint_ID                  0\n",
       "lg_ID                   736\n",
       "PA                      802\n",
       "G                         0\n",
       "Inn                   44908\n",
       "runs_bat                  0\n",
       "runs_br                   0\n",
       "runs_dp                   0\n",
       "runs_field                0\n",
       "runs_infield          44908\n",
       "runs_outfield         44908\n",
       "runs_catcher          44908\n",
       "runs_good_plays       91900\n",
       "runs_defense              0\n",
       "runs_position           988\n",
       "runs_position_p           1\n",
       "runs_replacement        802\n",
       "runs_above_rep          988\n",
       "runs_above_avg          988\n",
       "runs_above_avg_off      988\n",
       "runs_above_avg_def      988\n",
       "WAA                    9669\n",
       "WAA_off                9669\n",
       "WAA_def                9669\n",
       "WAR                   10812\n",
       "WAR_def                9669\n",
       "WAR_off               10812\n",
       "WAR_rep               10626\n",
       "salary                73429\n",
       "pitcher                1143\n",
       "teamRpG                9669\n",
       "oppRpG                    0\n",
       "oppRpPA_rep               0\n",
       "oppRpG_rep             9483\n",
       "pyth_exponent          9669\n",
       "pyth_exponent_rep      9483\n",
       "waa_win_perc           9669\n",
       "waa_win_perc_off       9669\n",
       "waa_win_perc_def       9669\n",
       "waa_win_perc_rep       9483\n",
       "OPS_plus              19378\n",
       "TOB_lg                    6\n",
       "TB_lg                     6\n",
       "dtype: int64"
      ]
     },
     "execution_count": 199,
     "metadata": {},
     "output_type": "execute_result"
    }
   ],
   "source": [
    "df.isnull().sum()"
   ]
  },
  {
   "cell_type": "code",
   "execution_count": 200,
   "id": "26f2c68b",
   "metadata": {},
   "outputs": [
    {
     "data": {
      "text/plain": [
       "521883"
      ]
     },
     "execution_count": 200,
     "metadata": {},
     "output_type": "execute_result"
    }
   ],
   "source": [
    "df.isnull().sum().sum()"
   ]
  },
  {
   "attachments": {},
   "cell_type": "markdown",
   "id": "2acdeae5",
   "metadata": {},
   "source": [
    "#### Selecting the Appropriate Time Frame for Analysis\n",
    "\n",
    "By the 1970s, many modern aspects of the game were in place. For instance, the designated hitter rule was established in the American League in 1973, free agency began in the mid-1970s, and by the 1980s, training, nutrition, and medical treatment for players had evolved significantly. Furthermore, the quality and completeness of data tends to be better from the 1970s onward."
   ]
  },
  {
   "cell_type": "code",
   "execution_count": 201,
   "id": "ac68418b",
   "metadata": {},
   "outputs": [],
   "source": [
    "# Start from 1970 season\n",
    "df_modern = df[df['year_ID'] >= 1970]"
   ]
  },
  {
   "cell_type": "code",
   "execution_count": 204,
   "id": "997dbb2f",
   "metadata": {},
   "outputs": [
    {
     "data": {
      "text/plain": [
       "name_common               0\n",
       "age                       0\n",
       "player_ID                 0\n",
       "year_ID                   0\n",
       "team_ID                   0\n",
       "stint_ID                  0\n",
       "lg_ID                     0\n",
       "PA                      796\n",
       "G                         0\n",
       "Inn                       0\n",
       "runs_bat                  0\n",
       "runs_br                   0\n",
       "runs_dp                   0\n",
       "runs_field                0\n",
       "runs_infield              0\n",
       "runs_outfield             0\n",
       "runs_catcher              0\n",
       "runs_good_plays       35112\n",
       "runs_defense              0\n",
       "runs_position           796\n",
       "runs_position_p           0\n",
       "runs_replacement        796\n",
       "runs_above_rep          796\n",
       "runs_above_avg          796\n",
       "runs_above_avg_off      796\n",
       "runs_above_avg_def      796\n",
       "WAA                    9477\n",
       "WAA_off                9477\n",
       "WAA_def                9477\n",
       "WAR                    9799\n",
       "WAR_def                9477\n",
       "WAR_off                9799\n",
       "WAR_rep                9799\n",
       "salary                31020\n",
       "pitcher                 322\n",
       "teamRpG                9477\n",
       "oppRpG                    0\n",
       "oppRpPA_rep               0\n",
       "oppRpG_rep             9477\n",
       "pyth_exponent          9477\n",
       "pyth_exponent_rep      9477\n",
       "waa_win_perc           9477\n",
       "waa_win_perc_off       9477\n",
       "waa_win_perc_def       9477\n",
       "waa_win_perc_rep       9477\n",
       "OPS_plus              17324\n",
       "TOB_lg                    0\n",
       "TB_lg                     0\n",
       "dtype: int64"
      ]
     },
     "execution_count": 204,
     "metadata": {},
     "output_type": "execute_result"
    }
   ],
   "source": [
    "df_modern.isnull().sum()"
   ]
  },
  {
   "cell_type": "code",
   "execution_count": 205,
   "id": "f8f6096f",
   "metadata": {},
   "outputs": [
    {
     "data": {
      "text/plain": [
       "232471"
      ]
     },
     "execution_count": 205,
     "metadata": {},
     "output_type": "execute_result"
    }
   ],
   "source": [
    "df_modern.isnull().sum().sum()"
   ]
  },
  {
   "cell_type": "code",
   "execution_count": 203,
   "id": "2b1a7d15",
   "metadata": {},
   "outputs": [
    {
     "data": {
      "text/plain": [
       "(64587, 48)"
      ]
     },
     "execution_count": 203,
     "metadata": {},
     "output_type": "execute_result"
    }
   ],
   "source": [
    "df_modern.shape"
   ]
  },
  {
   "cell_type": "code",
   "execution_count": 206,
   "id": "26f74e26",
   "metadata": {},
   "outputs": [],
   "source": [
    "# Drop Pitchers\n",
    "df_modern = df_modern[df_modern['pitcher'] != 'Y']"
   ]
  },
  {
   "cell_type": "code",
   "execution_count": 208,
   "id": "0fdd9fbd",
   "metadata": {},
   "outputs": [
    {
     "data": {
      "text/plain": [
       "name_common               0\n",
       "age                       0\n",
       "player_ID                 0\n",
       "year_ID                   0\n",
       "team_ID                   0\n",
       "stint_ID                  0\n",
       "lg_ID                     0\n",
       "PA                        0\n",
       "G                         0\n",
       "Inn                       0\n",
       "runs_bat                  0\n",
       "runs_br                   0\n",
       "runs_dp                   0\n",
       "runs_field                0\n",
       "runs_infield              0\n",
       "runs_outfield             0\n",
       "runs_catcher              0\n",
       "runs_good_plays       19535\n",
       "runs_defense              0\n",
       "runs_position             0\n",
       "runs_position_p           0\n",
       "runs_replacement          0\n",
       "runs_above_rep            0\n",
       "runs_above_avg            0\n",
       "runs_above_avg_off        0\n",
       "runs_above_avg_def        0\n",
       "WAA                       1\n",
       "WAA_off                   1\n",
       "WAA_def                   1\n",
       "WAR                     323\n",
       "WAR_def                   1\n",
       "WAR_off                 323\n",
       "WAR_rep                 323\n",
       "salary                15713\n",
       "pitcher                 322\n",
       "teamRpG                   1\n",
       "oppRpG                    0\n",
       "oppRpPA_rep               0\n",
       "oppRpG_rep                1\n",
       "pyth_exponent             1\n",
       "pyth_exponent_rep         1\n",
       "waa_win_perc              1\n",
       "waa_win_perc_off          1\n",
       "waa_win_perc_def          1\n",
       "waa_win_perc_rep          1\n",
       "OPS_plus                159\n",
       "TOB_lg                    0\n",
       "TB_lg                     0\n",
       "dtype: int64"
      ]
     },
     "execution_count": 208,
     "metadata": {},
     "output_type": "execute_result"
    }
   ],
   "source": [
    "df_modern.isnull().sum()"
   ]
  },
  {
   "cell_type": "code",
   "execution_count": 209,
   "id": "f135b993",
   "metadata": {},
   "outputs": [
    {
     "data": {
      "text/plain": [
       "36710"
      ]
     },
     "execution_count": 209,
     "metadata": {},
     "output_type": "execute_result"
    }
   ],
   "source": [
    "df_modern.isnull().sum().sum()"
   ]
  },
  {
   "cell_type": "code",
   "execution_count": 211,
   "id": "40e00a68",
   "metadata": {},
   "outputs": [
    {
     "data": {
      "text/plain": [
       "(33308, 48)"
      ]
     },
     "execution_count": 211,
     "metadata": {},
     "output_type": "execute_result"
    }
   ],
   "source": [
    "# Drop 2023 season\n",
    "df_modern = df_modern[df_modern['year_ID'] != 2023]\n",
    "df_modern.shape"
   ]
  },
  {
   "cell_type": "code",
   "execution_count": 213,
   "id": "e4317c47",
   "metadata": {},
   "outputs": [
    {
     "data": {
      "text/plain": [
       "name_common               0\n",
       "age                       0\n",
       "player_ID                 0\n",
       "year_ID                   0\n",
       "team_ID                   0\n",
       "stint_ID                  0\n",
       "lg_ID                     0\n",
       "PA                        0\n",
       "G                         0\n",
       "Inn                       0\n",
       "runs_bat                  0\n",
       "runs_br                   0\n",
       "runs_dp                   0\n",
       "runs_field                0\n",
       "runs_infield              0\n",
       "runs_outfield             0\n",
       "runs_catcher              0\n",
       "runs_good_plays       19535\n",
       "runs_defense              0\n",
       "runs_position             0\n",
       "runs_position_p           0\n",
       "runs_replacement          0\n",
       "runs_above_rep            0\n",
       "runs_above_avg            0\n",
       "runs_above_avg_off        0\n",
       "runs_above_avg_def        0\n",
       "WAA                       1\n",
       "WAA_off                   1\n",
       "WAA_def                   1\n",
       "WAR                     320\n",
       "WAR_def                   1\n",
       "WAR_off                 320\n",
       "WAR_rep                 320\n",
       "salary                15558\n",
       "pitcher                 319\n",
       "teamRpG                   1\n",
       "oppRpG                    0\n",
       "oppRpPA_rep               0\n",
       "oppRpG_rep                1\n",
       "pyth_exponent             1\n",
       "pyth_exponent_rep         1\n",
       "waa_win_perc              1\n",
       "waa_win_perc_off          1\n",
       "waa_win_perc_def          1\n",
       "waa_win_perc_rep          1\n",
       "OPS_plus                154\n",
       "TOB_lg                    0\n",
       "TB_lg                     0\n",
       "dtype: int64"
      ]
     },
     "execution_count": 213,
     "metadata": {},
     "output_type": "execute_result"
    }
   ],
   "source": [
    "df_modern.isnull().sum()"
   ]
  },
  {
   "cell_type": "code",
   "execution_count": 215,
   "id": "32d0f351",
   "metadata": {},
   "outputs": [
    {
     "data": {
      "text/plain": [
       "36538"
      ]
     },
     "execution_count": 215,
     "metadata": {},
     "output_type": "execute_result"
    }
   ],
   "source": [
    "df_modern.isnull().sum().sum()"
   ]
  },
  {
   "cell_type": "code",
   "execution_count": 217,
   "id": "397dc927",
   "metadata": {},
   "outputs": [],
   "source": [
    "# Drop Players with G as zero\n",
    "df_modern = df_modern[df_modern['G'] != 0]"
   ]
  },
  {
   "cell_type": "code",
   "execution_count": 219,
   "id": "d7fc403b",
   "metadata": {},
   "outputs": [
    {
     "data": {
      "text/plain": [
       "name_common               0\n",
       "age                       0\n",
       "player_ID                 0\n",
       "year_ID                   0\n",
       "team_ID                   0\n",
       "stint_ID                  0\n",
       "lg_ID                     0\n",
       "PA                        0\n",
       "G                         0\n",
       "Inn                       0\n",
       "runs_bat                  0\n",
       "runs_br                   0\n",
       "runs_dp                   0\n",
       "runs_field                0\n",
       "runs_infield              0\n",
       "runs_outfield             0\n",
       "runs_catcher              0\n",
       "runs_good_plays       19535\n",
       "runs_defense              0\n",
       "runs_position             0\n",
       "runs_position_p           0\n",
       "runs_replacement          0\n",
       "runs_above_rep            0\n",
       "runs_above_avg            0\n",
       "runs_above_avg_off        0\n",
       "runs_above_avg_def        0\n",
       "WAA                       0\n",
       "WAA_off                   0\n",
       "WAA_def                   0\n",
       "WAR                     319\n",
       "WAR_def                   0\n",
       "WAR_off                 319\n",
       "WAR_rep                 319\n",
       "salary                15557\n",
       "pitcher                 319\n",
       "teamRpG                   0\n",
       "oppRpG                    0\n",
       "oppRpPA_rep               0\n",
       "oppRpG_rep                0\n",
       "pyth_exponent             0\n",
       "pyth_exponent_rep         0\n",
       "waa_win_perc              0\n",
       "waa_win_perc_off          0\n",
       "waa_win_perc_def          0\n",
       "waa_win_perc_rep          0\n",
       "OPS_plus                153\n",
       "TOB_lg                    0\n",
       "TB_lg                     0\n",
       "dtype: int64"
      ]
     },
     "execution_count": 219,
     "metadata": {},
     "output_type": "execute_result"
    }
   ],
   "source": [
    "df_modern.isnull().sum()"
   ]
  },
  {
   "cell_type": "code",
   "execution_count": 220,
   "id": "337e8067",
   "metadata": {},
   "outputs": [
    {
     "data": {
      "text/plain": [
       "36521"
      ]
     },
     "execution_count": 220,
     "metadata": {},
     "output_type": "execute_result"
    }
   ],
   "source": [
    "df_modern.isnull().sum().sum()"
   ]
  },
  {
   "cell_type": "code",
   "execution_count": 222,
   "id": "3d1c91a8",
   "metadata": {},
   "outputs": [],
   "source": [
    "# Drop Players with PA as zero\n",
    "df_modern = df_modern[df_modern['PA'] != 0]"
   ]
  },
  {
   "cell_type": "code",
   "execution_count": 224,
   "id": "6916c926",
   "metadata": {},
   "outputs": [
    {
     "data": {
      "text/plain": [
       "name_common               0\n",
       "age                       0\n",
       "player_ID                 0\n",
       "year_ID                   0\n",
       "team_ID                   0\n",
       "stint_ID                  0\n",
       "lg_ID                     0\n",
       "PA                        0\n",
       "G                         0\n",
       "Inn                       0\n",
       "runs_bat                  0\n",
       "runs_br                   0\n",
       "runs_dp                   0\n",
       "runs_field                0\n",
       "runs_infield              0\n",
       "runs_outfield             0\n",
       "runs_catcher              0\n",
       "runs_good_plays       19446\n",
       "runs_defense              0\n",
       "runs_position             0\n",
       "runs_position_p           0\n",
       "runs_replacement          0\n",
       "runs_above_rep            0\n",
       "runs_above_avg            0\n",
       "runs_above_avg_off        0\n",
       "runs_above_avg_def        0\n",
       "WAA                       0\n",
       "WAA_off                   0\n",
       "WAA_def                   0\n",
       "WAR                     290\n",
       "WAR_def                   0\n",
       "WAR_off                 290\n",
       "WAR_rep                 290\n",
       "salary                15446\n",
       "pitcher                 290\n",
       "teamRpG                   0\n",
       "oppRpG                    0\n",
       "oppRpPA_rep               0\n",
       "oppRpG_rep                0\n",
       "pyth_exponent             0\n",
       "pyth_exponent_rep         0\n",
       "waa_win_perc              0\n",
       "waa_win_perc_off          0\n",
       "waa_win_perc_def          0\n",
       "waa_win_perc_rep          0\n",
       "OPS_plus                 18\n",
       "TOB_lg                    0\n",
       "TB_lg                     0\n",
       "dtype: int64"
      ]
     },
     "execution_count": 224,
     "metadata": {},
     "output_type": "execute_result"
    }
   ],
   "source": [
    "df_modern.isnull().sum()"
   ]
  },
  {
   "cell_type": "code",
   "execution_count": 225,
   "id": "98fab75f",
   "metadata": {},
   "outputs": [
    {
     "data": {
      "text/plain": [
       "36070"
      ]
     },
     "execution_count": 225,
     "metadata": {},
     "output_type": "execute_result"
    }
   ],
   "source": [
    "df_modern.isnull().sum().sum()"
   ]
  },
  {
   "cell_type": "code",
   "execution_count": 194,
   "id": "a80a35f1",
   "metadata": {},
   "outputs": [
    {
     "data": {
      "text/plain": [
       "count    1154.000000\n",
       "mean        3.758232\n",
       "std         5.866951\n",
       "min         1.000000\n",
       "25%         1.000000\n",
       "50%         2.000000\n",
       "75%         4.000000\n",
       "max        76.000000\n",
       "Name: PA, dtype: float64"
      ]
     },
     "execution_count": 194,
     "metadata": {},
     "output_type": "execute_result"
    }
   ],
   "source": [
    "# Show player with WAR as null\n",
    "df_modern[df_modern['WAR'].isnull()]['PA'].describe()"
   ]
  },
  {
   "cell_type": "code",
   "execution_count": 226,
   "id": "adb71561",
   "metadata": {},
   "outputs": [
    {
     "data": {
      "text/plain": [
       "16344"
      ]
     },
     "execution_count": 226,
     "metadata": {},
     "output_type": "execute_result"
    }
   ],
   "source": [
    "# Show player with less than 100 PA\n",
    "df_modern[df_modern['PA'] < 100].isnull().sum().sum()"
   ]
  },
  {
   "cell_type": "code",
   "execution_count": 227,
   "id": "bd67a8ce",
   "metadata": {},
   "outputs": [],
   "source": [
    "# Drop players with less than 100 PA\n",
    "df_modern = df_modern[df_modern['PA'] >= 100]"
   ]
  },
  {
   "cell_type": "code",
   "execution_count": 230,
   "id": "7b71e79f",
   "metadata": {},
   "outputs": [
    {
     "data": {
      "text/plain": [
       "(21842, 48)"
      ]
     },
     "execution_count": 230,
     "metadata": {},
     "output_type": "execute_result"
    }
   ],
   "source": [
    "df_modern.shape"
   ]
  },
  {
   "cell_type": "code",
   "execution_count": 228,
   "id": "e8f14c9d",
   "metadata": {},
   "outputs": [
    {
     "data": {
      "text/plain": [
       "name_common               0\n",
       "age                       0\n",
       "player_ID                 0\n",
       "year_ID                   0\n",
       "team_ID                   0\n",
       "stint_ID                  0\n",
       "lg_ID                     0\n",
       "PA                        0\n",
       "G                         0\n",
       "Inn                       0\n",
       "runs_bat                  0\n",
       "runs_br                   0\n",
       "runs_dp                   0\n",
       "runs_field                0\n",
       "runs_infield              0\n",
       "runs_outfield             0\n",
       "runs_catcher              0\n",
       "runs_good_plays       12815\n",
       "runs_defense              0\n",
       "runs_position             0\n",
       "runs_position_p           0\n",
       "runs_replacement          0\n",
       "runs_above_rep            0\n",
       "runs_above_avg            0\n",
       "runs_above_avg_off        0\n",
       "runs_above_avg_def        0\n",
       "WAA                       0\n",
       "WAA_off                   0\n",
       "WAA_def                   0\n",
       "WAR                       0\n",
       "WAR_def                   0\n",
       "WAR_off                   0\n",
       "WAR_rep                   0\n",
       "salary                 6911\n",
       "pitcher                   0\n",
       "teamRpG                   0\n",
       "oppRpG                    0\n",
       "oppRpPA_rep               0\n",
       "oppRpG_rep                0\n",
       "pyth_exponent             0\n",
       "pyth_exponent_rep         0\n",
       "waa_win_perc              0\n",
       "waa_win_perc_off          0\n",
       "waa_win_perc_def          0\n",
       "waa_win_perc_rep          0\n",
       "OPS_plus                  0\n",
       "TOB_lg                    0\n",
       "TB_lg                     0\n",
       "dtype: int64"
      ]
     },
     "execution_count": 228,
     "metadata": {},
     "output_type": "execute_result"
    }
   ],
   "source": [
    "df_modern.isnull().sum()"
   ]
  },
  {
   "cell_type": "code",
   "execution_count": 229,
   "id": "45437fd4",
   "metadata": {},
   "outputs": [
    {
     "data": {
      "text/plain": [
       "19726"
      ]
     },
     "execution_count": 229,
     "metadata": {},
     "output_type": "execute_result"
    }
   ],
   "source": [
    "df_modern.isnull().sum().sum()"
   ]
  }
 ],
 "metadata": {
  "kernelspec": {
   "display_name": "Python 3 (ipykernel)",
   "language": "python",
   "name": "python3"
  },
  "language_info": {
   "codemirror_mode": {
    "name": "ipython",
    "version": 3
   },
   "file_extension": ".py",
   "mimetype": "text/x-python",
   "name": "python",
   "nbconvert_exporter": "python",
   "pygments_lexer": "ipython3",
   "version": "3.10.9"
  }
 },
 "nbformat": 4,
 "nbformat_minor": 5
}
