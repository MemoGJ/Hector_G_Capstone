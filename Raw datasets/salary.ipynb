{
 "cells": [
  {
   "cell_type": "code",
   "execution_count": 563,
   "metadata": {},
   "outputs": [],
   "source": [
    "import pandas as pd\n",
    "import numpy as np\n"
   ]
  },
  {
   "cell_type": "code",
   "execution_count": 564,
   "metadata": {},
   "outputs": [],
   "source": [
    "# Load the data\n",
    "df = pd.read_csv('salary_history.csv')"
   ]
  },
  {
   "cell_type": "code",
   "execution_count": 577,
   "metadata": {},
   "outputs": [
    {
     "data": {
      "text/plain": [
       "(46450, 19)"
      ]
     },
     "execution_count": 577,
     "metadata": {},
     "output_type": "execute_result"
    }
   ],
   "source": [
    "df.shape"
   ]
  },
  {
   "cell_type": "code",
   "execution_count": 578,
   "metadata": {},
   "outputs": [
    {
     "data": {
      "text/plain": [
       "8651"
      ]
     },
     "execution_count": 578,
     "metadata": {},
     "output_type": "execute_result"
    }
   ],
   "source": [
    "# unique mlbid\n",
    "df['mlbid'].nunique()"
   ]
  },
  {
   "cell_type": "code",
   "execution_count": 575,
   "metadata": {},
   "outputs": [],
   "source": [
    "# concat first and last name\n",
    "# df['name'] = df['firstname'] + ' ' + df['lastname']\n"
   ]
  },
  {
   "cell_type": "code",
   "execution_count": 566,
   "metadata": {},
   "outputs": [],
   "source": [
    "# change born date to datetime\n",
    "df['borndate'] = pd.to_datetime(df['borndate']).dt.date"
   ]
  },
  {
   "cell_type": "code",
   "execution_count": 567,
   "metadata": {},
   "outputs": [],
   "source": [
    "def change_borndate(name, born):\n",
    "    df.loc[df['name'] == name, 'borndate'] = born\n",
    "    # save to csv\n",
    "    df.to_csv('salary_history.csv', index=False)\n"
   ]
  },
  {
   "cell_type": "code",
   "execution_count": 568,
   "metadata": {},
   "outputs": [],
   "source": [
    "change_borndate('Yainer Diaz', '2000-08-08')"
   ]
  },
  {
   "cell_type": "code",
   "execution_count": 569,
   "metadata": {},
   "outputs": [],
   "source": [
    "# First three letters of the first name\n",
    "df['first3'] = df['firstname'].str[:3]\n",
    "\n",
    "#first three letters of the last name\n",
    "df['last3'] = df['lastname'].str[:3]\n",
    "\n",
    "# two middle letters of the first name\n",
    "# df['middle2'] = df['firstname'].str[1:4]\n",
    "\n",
    "# concat first3 and Delwyn Younglast3\n",
    "df['first3last3'] = df['first3'] + df['last3']"
   ]
  },
  {
   "cell_type": "code",
   "execution_count": 576,
   "metadata": {},
   "outputs": [
    {
     "data": {
      "text/html": [
       "<div>\n",
       "<style scoped>\n",
       "    .dataframe tbody tr th:only-of-type {\n",
       "        vertical-align: middle;\n",
       "    }\n",
       "\n",
       "    .dataframe tbody tr th {\n",
       "        vertical-align: top;\n",
       "    }\n",
       "\n",
       "    .dataframe thead th {\n",
       "        text-align: right;\n",
       "    }\n",
       "</style>\n",
       "<table border=\"1\" class=\"dataframe\">\n",
       "  <thead>\n",
       "    <tr style=\"text-align: right;\">\n",
       "      <th></th>\n",
       "      <th>name</th>\n",
       "      <th>borndate</th>\n",
       "      <th>mlbid</th>\n",
       "      <th>year</th>\n",
       "      <th>salary</th>\n",
       "    </tr>\n",
       "  </thead>\n",
       "  <tbody>\n",
       "    <tr>\n",
       "      <th>14141</th>\n",
       "      <td>Joey Gallo</td>\n",
       "      <td>1993-11-19</td>\n",
       "      <td>608336</td>\n",
       "      <td>2015</td>\n",
       "      <td>507500</td>\n",
       "    </tr>\n",
       "    <tr>\n",
       "      <th>14142</th>\n",
       "      <td>Joey Gallo</td>\n",
       "      <td>1993-11-19</td>\n",
       "      <td>608336</td>\n",
       "      <td>2016</td>\n",
       "      <td>509500</td>\n",
       "    </tr>\n",
       "    <tr>\n",
       "      <th>14143</th>\n",
       "      <td>Joey Gallo</td>\n",
       "      <td>1993-11-19</td>\n",
       "      <td>608336</td>\n",
       "      <td>2017</td>\n",
       "      <td>537120</td>\n",
       "    </tr>\n",
       "    <tr>\n",
       "      <th>14144</th>\n",
       "      <td>Joey Gallo</td>\n",
       "      <td>1993-11-19</td>\n",
       "      <td>608336</td>\n",
       "      <td>2018</td>\n",
       "      <td>560000</td>\n",
       "    </tr>\n",
       "    <tr>\n",
       "      <th>14145</th>\n",
       "      <td>Joey Gallo</td>\n",
       "      <td>1993-11-19</td>\n",
       "      <td>608336</td>\n",
       "      <td>2019</td>\n",
       "      <td>605500</td>\n",
       "    </tr>\n",
       "    <tr>\n",
       "      <th>14146</th>\n",
       "      <td>Joey Gallo</td>\n",
       "      <td>1993-11-19</td>\n",
       "      <td>608336</td>\n",
       "      <td>2020</td>\n",
       "      <td>4400000</td>\n",
       "    </tr>\n",
       "    <tr>\n",
       "      <th>14147</th>\n",
       "      <td>Joey Gallo</td>\n",
       "      <td>1993-11-19</td>\n",
       "      <td>608336</td>\n",
       "      <td>2021</td>\n",
       "      <td>6200000</td>\n",
       "    </tr>\n",
       "    <tr>\n",
       "      <th>14148</th>\n",
       "      <td>Joey Gallo</td>\n",
       "      <td>1993-11-19</td>\n",
       "      <td>608336</td>\n",
       "      <td>2022</td>\n",
       "      <td>10275000</td>\n",
       "    </tr>\n",
       "    <tr>\n",
       "      <th>14149</th>\n",
       "      <td>Joey Gallo</td>\n",
       "      <td>1993-11-19</td>\n",
       "      <td>608336</td>\n",
       "      <td>2023</td>\n",
       "      <td>11000000</td>\n",
       "    </tr>\n",
       "  </tbody>\n",
       "</table>\n",
       "</div>"
      ],
      "text/plain": [
       "             name    borndate   mlbid  year    salary\n",
       "14141  Joey Gallo  1993-11-19  608336  2015    507500\n",
       "14142  Joey Gallo  1993-11-19  608336  2016    509500\n",
       "14143  Joey Gallo  1993-11-19  608336  2017    537120\n",
       "14144  Joey Gallo  1993-11-19  608336  2018    560000\n",
       "14145  Joey Gallo  1993-11-19  608336  2019    605500\n",
       "14146  Joey Gallo  1993-11-19  608336  2020   4400000\n",
       "14147  Joey Gallo  1993-11-19  608336  2021   6200000\n",
       "14148  Joey Gallo  1993-11-19  608336  2022  10275000\n",
       "14149  Joey Gallo  1993-11-19  608336  2023  11000000"
      ]
     },
     "execution_count": 576,
     "metadata": {},
     "output_type": "execute_result"
    }
   ],
   "source": [
    "pd.set_option('display.max_rows', None)\n",
    "# Show Ernie Youn\n",
    "# df[df['name'] == \"Joey Gallo\"][['name', 'borndate', 'mlbid', 'year', 'salary']]"
   ]
  },
  {
   "cell_type": "code",
   "execution_count": 571,
   "metadata": {},
   "outputs": [
    {
     "data": {
      "text/html": [
       "<div>\n",
       "<style scoped>\n",
       "    .dataframe tbody tr th:only-of-type {\n",
       "        vertical-align: middle;\n",
       "    }\n",
       "\n",
       "    .dataframe tbody tr th {\n",
       "        vertical-align: top;\n",
       "    }\n",
       "\n",
       "    .dataframe thead th {\n",
       "        text-align: right;\n",
       "    }\n",
       "</style>\n",
       "<table border=\"1\" class=\"dataframe\">\n",
       "  <thead>\n",
       "    <tr style=\"text-align: right;\">\n",
       "      <th></th>\n",
       "      <th>name</th>\n",
       "      <th>borndate</th>\n",
       "      <th>mlbid</th>\n",
       "      <th>year</th>\n",
       "    </tr>\n",
       "  </thead>\n",
       "  <tbody>\n",
       "    <tr>\n",
       "      <th>14363</th>\n",
       "      <td>Luis Garcia</td>\n",
       "      <td>1700-04-08</td>\n",
       "      <td>150193</td>\n",
       "      <td>1999</td>\n",
       "    </tr>\n",
       "  </tbody>\n",
       "</table>\n",
       "</div>"
      ],
      "text/plain": [
       "              name    borndate   mlbid  year\n",
       "14363  Luis Garcia  1700-04-08  150193  1999"
      ]
     },
     "execution_count": 571,
     "metadata": {},
     "output_type": "execute_result"
    }
   ],
   "source": [
    "# 116424\n",
    "df[df['mlbid'] == 150193][['name', 'borndate', 'mlbid', 'year']]"
   ]
  },
  {
   "cell_type": "code",
   "execution_count": 572,
   "metadata": {},
   "outputs": [],
   "source": [
    "# change borndate of Carlos Martinez mlbid 114924\n",
    "df.loc[df['mlbid'] == 150193, 'borndate'] = '1700-04-08'"
   ]
  },
  {
   "cell_type": "code",
   "execution_count": 573,
   "metadata": {},
   "outputs": [],
   "source": [
    "# Change Travis D'Arnaud last name\n",
    "# df.loc[df['name'] == \"Yurendell Decaster\", 'lastname'] = 'de Caster'\n",
    "\n"
   ]
  },
  {
   "cell_type": "code",
   "execution_count": 574,
   "metadata": {},
   "outputs": [],
   "source": [
    "# save to csv\n",
    "df.to_csv('salary_history.csv', index=False)"
   ]
  }
 ],
 "metadata": {
  "kernelspec": {
   "display_name": "capstone",
   "language": "python",
   "name": "python3"
  },
  "language_info": {
   "codemirror_mode": {
    "name": "ipython",
    "version": 3
   },
   "file_extension": ".py",
   "mimetype": "text/x-python",
   "name": "python",
   "nbconvert_exporter": "python",
   "pygments_lexer": "ipython3",
   "version": "3.10.9"
  },
  "orig_nbformat": 4
 },
 "nbformat": 4,
 "nbformat_minor": 2
}
